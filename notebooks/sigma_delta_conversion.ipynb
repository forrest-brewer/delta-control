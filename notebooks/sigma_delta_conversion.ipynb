{
 "cells": [
  {
   "cell_type": "code",
   "execution_count": 23,
   "id": "e217836b",
   "metadata": {},
   "outputs": [],
   "source": [
    "import numpy as np\n",
    "from scipy import signal\n",
    "from scipy import linalg\n",
    "import control\n",
    "import matplotlib.pyplot as plt\n",
    "import pickle"
   ]
  },
  {
   "cell_type": "code",
   "execution_count": 24,
   "id": "e25b7a7e",
   "metadata": {},
   "outputs": [],
   "source": [
    "OSR = 256      # oversample ratio\n",
    "fb = 22050     # nyquist\n",
    "fs = OSR*2*fb  # sampling frequency\n",
    "ts = 1/fs      # sampling period"
   ]
  },
  {
   "cell_type": "markdown",
   "id": "8a894fd6",
   "metadata": {},
   "source": []
  },
  {
   "cell_type": "code",
   "execution_count": 25,
   "id": "48368c5f",
   "metadata": {},
   "outputs": [],
   "source": [
    "file = open('filter_ss.pickle', 'rb')\n",
    "[A,B,C,D] = pickle.load(file)\n",
    "file.close()"
   ]
  },
  {
   "cell_type": "markdown",
   "id": "bd185909",
   "metadata": {},
   "source": [
    "## State Space Model\n",
    "The shape of the state space equations determine the order of the $\\Sigma\\Delta$ filter. Below is the continuous time representation"
   ]
  },
  {
   "cell_type": "markdown",
   "id": "a744d6a5",
   "metadata": {},
   "source": [
    "$\\dot{x} = A_{c}x + B_{c}u$<br>\n",
    "$y = C_{c}x + D_{c}u$"
   ]
  },
  {
   "cell_type": "markdown",
   "id": "768e9d81",
   "metadata": {},
   "source": [
    "The corresponding based $\\delta$ model[^1]."
   ]
  },
  {
   "cell_type": "markdown",
   "id": "5a36c84d",
   "metadata": {},
   "source": [
    "$\\delta$x = $A_{\\delta}x + B_{\\delta}u$<br>\n",
    "$y = C_{\\delta}x + D_{\\delta}u$"
   ]
  },
  {
   "cell_type": "markdown",
   "id": "c0ae7799",
   "metadata": {},
   "source": []
  },
  {
   "cell_type": "markdown",
   "id": "f4aebd4a",
   "metadata": {},
   "source": [
    "$A_{\\delta} = \\dfrac{\\exp(A_{c} - \\textit{I})}{\\Delta}$ <br>\n",
    "$B_{\\delta} = \\dfrac{1}{\\Delta}\\int_{0}^{\\Delta}\\exp(A_{c}(t - \\tau))B_{c}u(\\tau)\\;d\\tau$ <br>\n",
    "$C_{\\delta} = C_{c}$ <br>\n",
    "$D_{\\delta} = D_{c}$ <br>"
   ]
  },
  {
   "cell_type": "code",
   "execution_count": 26,
   "id": "8ffce8e8",
   "metadata": {},
   "outputs": [],
   "source": [
    "[A, T] = linalg.matrix_balance(A)\n",
    "B = linalg.solve(T, B) \n",
    "C = C @ T"
   ]
  },
  {
   "cell_type": "markdown",
   "id": "dcb09649",
   "metadata": {},
   "source": [
    "### Converting from Continuous Time to Sampled Time\n",
    "c2delta - def c2delta(A,B,C,D,ts):"
   ]
  },
  {
   "cell_type": "code",
   "execution_count": 27,
   "id": "67fccfe8",
   "metadata": {},
   "outputs": [],
   "source": [
    "Ad = (linalg.expm(A*ts) - np.eye(A.shape[0])) / ts\n",
    "Bd = np.matmul((linalg.expm(A*ts) - np.eye(A.shape[0]) ), B) / ts\n",
    "Bd = np.matmul(np.linalg.inv(A), Bd)\n",
    "Cd = C\n",
    "Dd = D"
   ]
  },
  {
   "cell_type": "markdown",
   "id": "d5891e4b",
   "metadata": {},
   "source": [
    "### Structural Transformation of Filter\n",
    "obsv_cst - def obsv_cst(A,B,C,D):"
   ]
  },
  {
   "cell_type": "code",
   "execution_count": 28,
   "id": "66f1f69f",
   "metadata": {},
   "outputs": [],
   "source": [
    "e = np.zeros((A.shape[1], 1))\n",
    "e[-1] = 1\n",
    "O = control.obsv(A, C)\n",
    "[U, S, Vh] = linalg.svd(O)\n",
    "V = Vh.T\n",
    "S = np.diag(S)\n",
    "S_inv = linalg.solve(S, np.eye(S.shape[0]))\n",
    "T_inv = V @ S_inv @ U.conj().T\n",
    "T1 = T_inv @ e;\n",
    "n = A.shape[1]\n",
    "q = T1.shape[1]\n",
    "T0 = np.zeros((n,n))\n",
    "\n",
    "for i in range(1, n+1):\n",
    "  column = np.power(A, n-i) @ T1\n",
    "  T0[:, i-1] = column[:,0]\n",
    "\n",
    "Ad_t = linalg.solve(T0, A @ T0)\n",
    "Bd_t = linalg.solve(T0, B)\n",
    "Cd_t = C @ T0;\n",
    "Dd_t = D;"
   ]
  },
  {
   "cell_type": "code",
   "execution_count": 29,
   "id": "1493aa99",
   "metadata": {},
   "outputs": [],
   "source": [
    "[num_t, den_t] = signal.ss2tf(Ad_t,Bd_t,Cd_t,Dd_t)"
   ]
  },
  {
   "cell_type": "code",
   "execution_count": 30,
   "id": "89714d22",
   "metadata": {},
   "outputs": [],
   "source": [
    "def delta_bode(A,B,C,D,f,ts):\n",
    "  q     = C.shape[0]\n",
    "  p     = B.shape[1]\n",
    "  fs    = 1/ts\n",
    "  mag   = np.zeros((q,p,f.shape[0]))\n",
    "  phz   = np.zeros((q,p,f.shape[0]))\n",
    "  delta = (np.exp(1j*2*np.pi*(f/fs))-1)/ts\n",
    "\n",
    "  for i in range(f.shape[0]):\n",
    "      A_d = delta[i] * np.eye(A.shape[0]) - A\n",
    "      h   = C @ linalg.solve(A_d, B) + D\n",
    "      mag[:,:,i] = np.abs(h)\n",
    "      phz[:,:,i] = 180*np.arctan2(np.imag(h),np.real(h))/np.pi\n",
    "  return mag, phz\n"
   ]
  },
  {
   "cell_type": "code",
   "execution_count": 31,
   "id": "58e94af8",
   "metadata": {},
   "outputs": [],
   "source": [
    "f = np.logspace(0,np.log10(fb),2**10)"
   ]
  },
  {
   "cell_type": "markdown",
   "id": "4909b513",
   "metadata": {},
   "source": [
    "### Dynamic Range Scaling of State Variable Integrators\n",
    "dIIR_scaling(Ad,Bd,T0,f,ts):"
   ]
  },
  {
   "cell_type": "code",
   "execution_count": 32,
   "id": "68a2e9f2",
   "metadata": {},
   "outputs": [],
   "source": [
    "T0_inv = linalg.solve(T0, np.eye(T0.shape[0]))\n",
    "[f_int, phz] = delta_bode(A,B,T0_inv,0,f,ts)\n",
    "\n",
    "f_norm = np.zeros(A.shape[0])\n",
    "\n",
    "for i in range(f_norm.shape[0]):\n",
    "  f_norm[i] = linalg.norm(f_int[i], np.inf, axis=1)\n",
    "\n",
    "Ts = np.zeros(A.shape)\n",
    "k = np.zeros(f_norm.shape[0])\n",
    "k_inv = np.zeros(f_norm.shape[0])\n",
    "\n",
    "for i in range(f_norm.shape[0]):\n",
    "  if i == 0:\n",
    "    k[i] = 1/f_norm[i]\n",
    "  else:\n",
    "    k[i] = 1/(np.prod(k[:i])*f_norm[i])\n",
    "\n",
    "  k_inv[i] = 2**np.floor(np.log2(ts/k[i]))/ts\n",
    "  Ts[i,i] = np.prod(k_inv[0:i+1])\n"
   ]
  },
  {
   "cell_type": "code",
   "execution_count": 33,
   "id": "de5299c0",
   "metadata": {},
   "outputs": [],
   "source": [
    "num_ts      = np.copy(num_t[0])\n",
    "num_ts[1:] /= np.diag(Ts)\n",
    "num_ts[0]   = num_t[0][0]\n",
    "den_ts      = np.copy(den_t)\n",
    "den_ts[1:] /= np.diag(Ts)\n",
    "den_ts[0]   = 1\n",
    "\n",
    "beta  = num_ts;\n",
    "alpha = den_ts;\n"
   ]
  },
  {
   "cell_type": "code",
   "execution_count": 34,
   "id": "eef2eafb",
   "metadata": {},
   "outputs": [
    {
     "data": {
      "text/plain": [
       "array([ 1.00000000e-03, -2.03551449e-12,  1.66198617e-04,  9.21224222e-07,\n",
       "        2.10225865e+01])"
      ]
     },
     "execution_count": 34,
     "metadata": {},
     "output_type": "execute_result"
    }
   ],
   "source": [
    "beta"
   ]
  },
  {
   "cell_type": "code",
   "execution_count": 35,
   "id": "d67e0c1b",
   "metadata": {},
   "outputs": [
    {
     "data": {
      "text/plain": [
       "array([1.00000000e+00, 1.51983976e-03, 1.84176487e-02, 1.77806186e-03,\n",
       "       2.23972437e+04])"
      ]
     },
     "execution_count": 35,
     "metadata": {},
     "output_type": "execute_result"
    }
   ],
   "source": [
    "alpha"
   ]
  },
  {
   "cell_type": "code",
   "execution_count": 36,
   "id": "d2ae973e",
   "metadata": {},
   "outputs": [],
   "source": [
    "file = open('delta_filter_ss.pickle', 'wb')\n",
    "pickle.dump((Ad,Bd,Cd,Dd,T0,Ts,f,ts), file)\n",
    "file.close()"
   ]
  },
  {
   "cell_type": "markdown",
   "id": "d1ee2f0b",
   "metadata": {},
   "source": [
    "[^1]: [$\\Sigma\\Delta$ Stream Computation: A New Paradigm for Low Power and High Resolution Feedback Control](https://escholarship.org/uc/item/4f46n0h6) by Poverelli, Joseph Sam <br>\n",
    "[^2]: [Digital Control and Estimation: A Unified Approach](https://dl.acm.org/doi/10.5555/574885) by Richard H Middleton & \n",
    "Graham C Goodwin <br>\n",
    "[^3]: [A generalized direct-form delta operator-based IIR filter with minimum noise gain and sensitivity](https://ieeexplore.ieee.org/document/933811) by Ngai Wong & Tung-Sang Ng <br>"
   ]
  },
  {
   "cell_type": "code",
   "execution_count": null,
   "id": "cac2df5f",
   "metadata": {},
   "outputs": [],
   "source": []
  }
 ],
 "metadata": {
  "kernelspec": {
   "display_name": "Python 3 (ipykernel)",
   "language": "python",
   "name": "python3"
  },
  "language_info": {
   "codemirror_mode": {
    "name": "ipython",
    "version": 3
   },
   "file_extension": ".py",
   "mimetype": "text/x-python",
   "name": "python",
   "nbconvert_exporter": "python",
   "pygments_lexer": "ipython3",
   "version": "3.9.12"
  }
 },
 "nbformat": 4,
 "nbformat_minor": 5
}
