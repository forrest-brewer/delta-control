{
 "cells": [
  {
   "cell_type": "code",
   "execution_count": null,
   "id": "e217836b",
   "metadata": {},
   "outputs": [],
   "source": [
    "import numpy as np\n",
    "from scipy import signal\n",
    "from scipy import linalg\n",
    "import control\n",
    "import matplotlib.pyplot as plt\n",
    "import pickle"
   ]
  },
  {
   "cell_type": "code",
   "execution_count": null,
   "id": "48368c5f",
   "metadata": {},
   "outputs": [],
   "source": [
    "# file = open('filter_ss.pickle', 'rb')\n",
    "# [A,B,C,D] = pickle.load(file)\n",
    "# file.close()\n",
    "%store -r\n",
    "[A,B,C,D] = the_filter\n",
    "print(A,B,C,D)"
   ]
  },
  {
   "cell_type": "markdown",
   "id": "c936e467",
   "metadata": {},
   "source": [
    "### Matrix Balancing\n",
    "Matrix balancing is a preprocessing step in linear algebra computations such as the computation of eigenvalues of a matrix. Such computations are known to be numerically unstable if the matrix is unbalanced, that is the L2 norm of some rows and their corresponding columns are different by orders of magnitude.\n",
    "\n",
    "https://escholarship.org/uc/item/3847b5dr"
   ]
  },
  {
   "cell_type": "code",
   "execution_count": null,
   "id": "8ffce8e8",
   "metadata": {},
   "outputs": [],
   "source": [
    "[A, T] = linalg.matrix_balance(A)\n",
    "B = linalg.solve(T, B) \n",
    "C = C @ T"
   ]
  },
  {
   "cell_type": "markdown",
   "id": "bd185909",
   "metadata": {},
   "source": [
    "## State Space Model\n",
    "The shape of the state space equations determine the order of the $\\Sigma\\Delta$ filter. Below is the continuous time representation"
   ]
  },
  {
   "cell_type": "markdown",
   "id": "a744d6a5",
   "metadata": {},
   "source": [
    "$\\dot{x} = A_{c}x + B_{c}u$<br>\n",
    "$y = C_{c}x + D_{c}u$"
   ]
  },
  {
   "cell_type": "markdown",
   "id": "768e9d81",
   "metadata": {},
   "source": [
    "The corresponding based $\\delta$ model[^fn1]."
   ]
  },
  {
   "cell_type": "markdown",
   "id": "5a36c84d",
   "metadata": {},
   "source": [
    "$\\delta$x = $A_{\\delta}x + B_{\\delta}u$<br>\n",
    "$y = C_{\\delta}x + D_{\\delta}u$"
   ]
  },
  {
   "cell_type": "markdown",
   "id": "dcb09649",
   "metadata": {},
   "source": [
    "### Converting from Continuous Time to Sampled Time"
   ]
  },
  {
   "cell_type": "code",
   "execution_count": null,
   "id": "e25b7a7e",
   "metadata": {},
   "outputs": [],
   "source": [
    "OSR = 256      # oversample ratio\n",
    "fb = 22050     # nyquist\n",
    "fs = OSR*2*fb  # sampling frequency\n",
    "ts = 1/fs      # sampling period"
   ]
  },
  {
   "cell_type": "markdown",
   "id": "f4aebd4a",
   "metadata": {},
   "source": [
    "${\\Delta} = ts = \\dfrac{1}{fs}$ </p>\n",
    "$A_{\\delta} = \\dfrac{\\exp(A_{c} - \\textit{I})}{\\Delta}$ <br>\n",
    "$B_{\\delta} = \\dfrac{1}{\\Delta}\\int_{0}^{\\Delta}\\exp(A_{c}(t - \\tau))B_{c}u(\\tau)\\;d\\tau$ <br>\n",
    "$C_{\\delta} = C_{c}$ <br>\n",
    "$D_{\\delta} = D_{c}$ <br>"
   ]
  },
  {
   "cell_type": "code",
   "execution_count": null,
   "id": "67fccfe8",
   "metadata": {},
   "outputs": [],
   "source": [
    "Ad = (linalg.expm(A*ts) - np.eye(A.shape[0])) / ts\n",
    "Bd = ((linalg.expm(A*ts) - np.eye(A.shape[0]) ) @ B) / ts\n",
    "Bd = np.linalg.inv(A) @ Bd\n",
    "Cd = C\n",
    "Dd = D"
   ]
  },
  {
   "cell_type": "markdown",
   "id": "d5891e4b",
   "metadata": {},
   "source": [
    "### Structural Transformation of Filter"
   ]
  },
  {
   "cell_type": "markdown",
   "id": "89cf5db6",
   "metadata": {},
   "source": [
    "A similarity transform of the sampled time state space matrix is evaluated. This puts the $\\delta$DFIIt structure into the observable canonical form, $T_{0}$. $T_{1}$ is first calcuated as below. [^fn3]"
   ]
  },
  {
   "cell_type": "markdown",
   "id": "7d8e92f9",
   "metadata": {},
   "source": [
    "$T_{1}=\\left[\\begin{array}{c}\n",
    "C_{\\delta}\\\\\n",
    "C_{\\delta}A_{\\delta}\\\\\n",
    "\\vdots\\\\\n",
    "C_{\\delta}A_{\\delta}^{n-1}\n",
    "\\end{array}\\right]^{-1}\\left[\\begin{array}{c}\n",
    "0\\\\\n",
    "0\\\\\n",
    "\\vdots\\\\\n",
    "1\n",
    "\\end{array}\\right]$"
   ]
  },
  {
   "cell_type": "code",
   "execution_count": null,
   "id": "66f1f69f",
   "metadata": {},
   "outputs": [],
   "source": [
    "e = np.zeros((A.shape[1], 1))\n",
    "e[-1] = 1\n",
    "O = control.obsv(A, C)\n",
    "[U, S, Vh] = linalg.svd(O)\n",
    "V = Vh.T\n",
    "S = np.diag(S)\n",
    "S_inv = linalg.solve(S, np.eye(S.shape[0]))\n",
    "T_inv = V @ S_inv @ U.conj().T\n",
    "T1 = T_inv @ e;"
   ]
  },
  {
   "cell_type": "markdown",
   "id": "c28a0aab",
   "metadata": {},
   "source": [
    "$T_{0}=\\left[\\begin{array}{ccccc}\n",
    "A_{\\delta}^{n-1}T_{1} & A_{\\delta}^{n-2}T_{1} & \\ldots & A_{\\delta}T_{1} & T_{1}\\end{array}\\right]$"
   ]
  },
  {
   "cell_type": "code",
   "execution_count": null,
   "id": "e60fe2ef",
   "metadata": {},
   "outputs": [],
   "source": [
    "n  = A.shape[1]\n",
    "T0 = np.zeros((n,n))\n",
    "\n",
    "for i in range(1, n+1):\n",
    "  column = np.power(A, n-i) @ T1\n",
    "  T0[:, i-1] = column[:,0]"
   ]
  },
  {
   "cell_type": "markdown",
   "id": "6e89c920",
   "metadata": {},
   "source": [
    "$\\tilde{A_{\\delta}}=T_{0}^{-1}A_{\\delta}T_{0}$ <br>\n",
    "$\\tilde{B_{\\delta}}=T_{0}^{-1}B_{\\delta}$ <br>\n",
    "$\\tilde{C_{\\delta}}=C_{\\delta}T_{0}$"
   ]
  },
  {
   "cell_type": "code",
   "execution_count": null,
   "id": "50f8929f",
   "metadata": {},
   "outputs": [],
   "source": [
    "Ad_t = linalg.solve(T0, A @ T0)\n",
    "Bd_t = linalg.solve(T0, B)\n",
    "Cd_t = C @ T0;\n",
    "Dd_t = D;"
   ]
  },
  {
   "cell_type": "code",
   "execution_count": null,
   "id": "1493aa99",
   "metadata": {},
   "outputs": [],
   "source": [
    "[num_t, den_t] = signal.ss2tf(Ad_t,Bd_t,Cd_t,Dd_t)"
   ]
  },
  {
   "cell_type": "markdown",
   "id": "de639ac9",
   "metadata": {},
   "source": [
    "### $\\Sigma\\Delta$ Transfer Function (Bode Vectors)"
   ]
  },
  {
   "cell_type": "markdown",
   "id": "21a2b7a6",
   "metadata": {},
   "source": [
    "$\\large \\delta I = ((e^{\\frac{-j\\omega}{\\Delta}} - 1) \\times \\frac{1}{\\Delta})\\times I$\n",
    "\n",
    "$H(\\delta)=\\tilde{C_{\\delta}}(\\delta I-\\tilde{A_{\\delta}})\\tilde{B_{\\delta}}+D_{\\delta}$"
   ]
  },
  {
   "cell_type": "code",
   "execution_count": null,
   "id": "89714d22",
   "metadata": {},
   "outputs": [],
   "source": [
    "def delta_bode(A,B,C,D,f,ts):\n",
    "  q     = C.shape[0]\n",
    "  p     = B.shape[1]\n",
    "  fs    = 1/ts\n",
    "  mag   = np.zeros((q,p,f.shape[0]))\n",
    "  phz   = np.zeros((q,p,f.shape[0]))\n",
    "  delta = (np.exp(1j*2*np.pi*(f/fs))-1)/ts\n",
    "\n",
    "  for i in range(f.shape[0]):\n",
    "      A_d = delta[i] * np.eye(A.shape[0]) - A\n",
    "        \n",
    "      [A_d, T_d] = linalg.matrix_balance(A_d)\n",
    "      B_d = linalg.solve(T_d, B)\n",
    "      C_d = C @ T_d\n",
    "      \n",
    "      h   = linalg.solve(A_d, B_d)\n",
    "      h   = (C_d @ h) + D\n",
    "      mag[:,:,i] = np.abs(h)\n",
    "      phz[:,:,i] = 180*np.arctan2(np.imag(h),np.real(h))/np.pi\n",
    "  return mag, phz\n"
   ]
  },
  {
   "cell_type": "code",
   "execution_count": null,
   "id": "58e94af8",
   "metadata": {},
   "outputs": [],
   "source": [
    "f = np.logspace(0,np.log10(fb),2**10)"
   ]
  },
  {
   "cell_type": "markdown",
   "id": "4909b513",
   "metadata": {},
   "source": [
    "### Dynamic Range Scaling of State Variable Integrators"
   ]
  },
  {
   "cell_type": "markdown",
   "id": "8b1fd22c",
   "metadata": {},
   "source": [
    "$\\tilde{A_{\\delta}^{'}}=T_{s}^{-1}T_{0}^{-1}A_{\\delta}T_{0}T_{s}$ <br>\n",
    "$\\tilde{B_{\\delta}^{'}}=T_{s}^{-1}T_{0}^{-1}B_{\\delta}$ <br>\n",
    "$\\tilde{C_{\\delta}^{'}}=C_{\\delta}T_{0}T_{s}$ <br>"
   ]
  },
  {
   "cell_type": "markdown",
   "id": "db8c46a9",
   "metadata": {},
   "source": [
    "$H(\\delta)=\\tilde{C_{\\delta}^{'}}(\\delta I-\\tilde{A_{\\delta}^{'}})\\tilde{B_{\\delta}^{'}}+D_{\\delta}$"
   ]
  },
  {
   "cell_type": "markdown",
   "id": "b2c14032",
   "metadata": {},
   "source": [
    "#### transfer functions from the input to the ith state integrator\n",
    "$f_{i}\\left(\\delta\\right)=\\frac{x_{i}\\left(\\delta\\right)}{u\\left(\\delta\\right)}$ = $T_{s}^{-1}T_{0}^{-1}\\left(\\delta I-A_{\\delta}\\right)^{-1}B_{\\delta}$"
   ]
  },
  {
   "cell_type": "code",
   "execution_count": null,
   "id": "68a2e9f2",
   "metadata": {},
   "outputs": [],
   "source": [
    "T0_inv = linalg.solve(T0, np.eye(T0.shape[0]))\n",
    "[f_i, phz] = delta_bode(Ad,Bd,T0_inv,0,f,ts)"
   ]
  },
  {
   "cell_type": "markdown",
   "id": "b66f5193",
   "metadata": {},
   "source": [
    "$\\left\\Vert H(\\frac{e^{j\\omega}-1}{\\Delta})\\right\\Vert _{p}=\\left[\\frac{1}{2\\pi}\\intop_{-\\pi}^{\\pi}|H\\left(\\frac{e^{j\\omega}-1}{\\Delta}\\right)|^{p}d\\omega\\right]^{1/p}$"
   ]
  },
  {
   "cell_type": "markdown",
   "id": "b5b2c466",
   "metadata": {},
   "source": [
    "$||f(\\delta)||_{\\infty}\t=T_{s}^{-1}||T_{0}^{-1}\\left(\\delta I-A_{\\delta}\\right)^{-1}B_{\\delta}||_{\\infty}\n",
    "\t=\\left[\\begin{array}{ccc}\n",
    "1 & \\cdots & 1\\end{array}\\right]^{T}$"
   ]
  },
  {
   "cell_type": "code",
   "execution_count": null,
   "id": "3d18407f",
   "metadata": {},
   "outputs": [],
   "source": [
    "f_norm = np.zeros(Ad.shape[0])\n",
    "\n",
    "for i in range(f_norm.shape[0]):\n",
    "  f_norm[i] = linalg.norm(f_i[i], np.inf, axis=1)"
   ]
  },
  {
   "cell_type": "markdown",
   "id": "8f7dd167",
   "metadata": {},
   "source": [
    "$T_{s}=diag\\left[k_{1}^{-1},\\left(k_{1}k_{2}\\right)^{-1},\\ldots,\\left(k_{1}k_{2}\\ldots k_{n}\\right)^{-1}\\right]$"
   ]
  },
  {
   "cell_type": "markdown",
   "id": "86458d43",
   "metadata": {},
   "source": [
    "$\\tilde{k}_{i}=\\frac{2^{\\left\\lfloor log_{2}\\Delta\\cdot k_{i}^{-1}\\right\\rfloor }}{\\Delta}$"
   ]
  },
  {
   "cell_type": "code",
   "execution_count": null,
   "id": "9a87ba5d",
   "metadata": {},
   "outputs": [],
   "source": [
    "Ts = np.zeros(A.shape)\n",
    "k = np.zeros(f_norm.shape[0])\n",
    "k_inv = np.zeros(f_norm.shape[0])\n",
    "\n",
    "for i in range(f_norm.shape[0]):\n",
    "  if i == 0:\n",
    "    k[i] = 1/f_norm[i]\n",
    "  else:\n",
    "    k[i] = 1/(np.prod(k[:i])*f_norm[i])\n",
    "\n",
    "  k_inv[i] = 2**np.floor(np.log2(ts/k[i]))/ts\n",
    "  Ts[i,i] = np.prod(k_inv[0:i+1])\n"
   ]
  },
  {
   "cell_type": "code",
   "execution_count": null,
   "id": "de5299c0",
   "metadata": {},
   "outputs": [],
   "source": [
    "num_ts      = np.copy(num_t[0])\n",
    "num_ts[1:] /= np.diag(Ts)\n",
    "num_ts[0]   = num_t[0][0]\n",
    "den_ts      = np.copy(den_t)\n",
    "den_ts[1:] /= np.diag(Ts)\n",
    "den_ts[0]   = 1\n",
    "\n",
    "sdf_beta  = num_ts;\n",
    "sdf_alpha = den_ts;\n"
   ]
  },
  {
   "cell_type": "code",
   "execution_count": null,
   "id": "eef2eafb",
   "metadata": {},
   "outputs": [],
   "source": [
    "# %store sdf_beta\n",
    "sdf_beta"
   ]
  },
  {
   "cell_type": "code",
   "execution_count": null,
   "id": "d67e0c1b",
   "metadata": {},
   "outputs": [],
   "source": [
    "# %store sdf_alpha\n",
    "sdf_alpha"
   ]
  },
  {
   "cell_type": "code",
   "execution_count": null,
   "id": "d2ae973e",
   "metadata": {},
   "outputs": [],
   "source": [
    "# file = open('delta_filter_ss.pickle', 'wb')\n",
    "# pickle.dump((Ad,Bd,Cd,Dd,T0,Ts,f,ts), file)\n",
    "# file.close()\n",
    "the_delta_filter = [Ad,Bd,Cd,Dd,T0,Ts,f,ts]\n",
    "%store the_delta_filter"
   ]
  },
  {
   "cell_type": "markdown",
   "id": "d1ee2f0b",
   "metadata": {},
   "source": [
    "[^fn1]: [$\\Sigma\\Delta$ Stream Computation: A New Paradigm for Low Power and High Resolution Feedback Control](https://escholarship.org/uc/item/4f46n0h6) by Poverelli, Joseph Sam <br>\n",
    "[^fn2]: [Digital Control and Estimation: A Unified Approach](https://dl.acm.org/doi/10.5555/574885) by Richard H Middleton & \n",
    "Graham C Goodwin <br>\n",
    "[^fn3]: [A generalized direct-form delta operator-based IIR filter with minimum noise gain and sensitivity](https://ieeexplore.ieee.org/document/933811) by Ngai Wong & Tung-Sang Ng <br>"
   ]
  },
  {
   "cell_type": "code",
   "execution_count": null,
   "id": "cac2df5f",
   "metadata": {},
   "outputs": [],
   "source": []
  }
 ],
 "metadata": {
  "kernelspec": {
   "display_name": "Python 3 (ipykernel)",
   "language": "python",
   "name": "python3"
  },
  "language_info": {
   "codemirror_mode": {
    "name": "ipython",
    "version": 3
   },
   "file_extension": ".py",
   "mimetype": "text/x-python",
   "name": "python",
   "nbconvert_exporter": "python",
   "pygments_lexer": "ipython3",
   "version": "3.9.12"
  }
 },
 "nbformat": 4,
 "nbformat_minor": 5
}
