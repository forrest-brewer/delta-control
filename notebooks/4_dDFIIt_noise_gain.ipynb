{
 "cells": [
  {
   "cell_type": "markdown",
   "id": "7c34727a",
   "metadata": {},
   "source": [
    "# Noise Analysis\n",
    "## Mathematical Background\n",
    "\n",
    "The noise analysis of the $\\Sigma\\Delta$ filter consist of the input $\\Sigma\\Delta$ encoded bitstream,  the output $\\Sigma\\Delta$ modulator and the coupling coefficient round-off quantization taking place after each discrete integrator. There are no round-off quantization noise from coefficient multipliers since there are no fixed point multiplication. The scaling coefficients are all power of two bitshifts. That makes it possible to create third order or higher filters without coefficient multiply round-off quantization noise drowning out the signal information.\n",
    "\n",
    "### Input $\\Sigma\\Delta$ Representation Noise Propagation\n",
    "\n",
    "The input $\\Sigma\\Delta$ bit stream noise is filtered by the transfer function $\\tilde{H}_{\\Sigma\\Delta}^{'}\\left(\\delta\\right)$. The noise transfer function of the input modulator, $NTF_{\\Sigma\\Delta_{1}}\\left(\\delta\\right)$, has quantizer noise with a spectral density of $\\eta_{\\Sigma\\Delta_{1}}$. The output noise variance injected by the input $\\Sigma\\Delta$ modulator, $\\sigma_{\\Sigma\\Delta_{1}}^{2}$, is given by\n",
    "\n",
    "$\\sigma_{\\Sigma\\Delta_{1}}^{2} =\\intop_{-f_{B}}^{f_{B}}\\eta_{\\Sigma\\Delta_{1}}\\left[\\tilde{H}_{\\Sigma\\Delta}^{'*}(f)NTF_{\\Sigma\\Delta_{1}}^{*}(f)NTF_{\\Sigma\\Delta_{1}}(f)\\tilde{H}_{\\Sigma\\Delta}^{'}(f)\\right]df +\\Delta\\left[\\intop_{-f_{B}}^{f_{B}}\\eta_{\\Sigma\\Delta_{1}}\\left[S^{*}\\left(f\\right)NTF_{\\Sigma\\Delta_{1}}^{*}(f)NTF_{\\Sigma\\Delta_{1}}(f)S\\left(f\\right)\\right]df\\right]\\Delta_{q}$\n",
    "\n",
    "### Output $\\Sigma\\Delta$ Representation Noise Propagation\n",
    "\n",
    "Representation noise from the output $\\Sigma\\Delta$ is injected at the quantizer noise input of the digital output modulator to the filter output. The transfer function, $E\\left(\\delta\\right)$, from the output $\\Sigma\\Delta$ quantizer noise input to the output of the filter is\n",
    "\n",
    "$E\\left(\\delta\\right) = C_{\\delta}\\left(\\delta I-A_{\\delta}\\right)^{-1}A_{\\delta}T_{0}\\left[\\begin{array}{cccc}\n",
    "1 & 0 & \\cdots & 0\\end{array}\\right]^{T}+1$\n",
    "\n",
    "As a result of coefficient quantization, $E\\left(\\delta\\right)$ will vary slightly from its ideal formulation. The sensitivity of $E\\left(\\delta\\right)$ must be taken into account then when calculating the output noise variance estimate.\n",
    "\n",
    "The sensitivity function $S^{E(\\delta)}(\\delta)$ of $E\\left(\\delta\\right)$ can be defined as\n",
    "\n",
    "$S^{E(\\delta)}\\left(\\delta\\right) =\\left[\\begin{array}{c}\n",
    "S_{0}^{E(\\delta)}(\\delta)\\\\\n",
    "S_{1}^{E(\\delta)}(\\delta)\\\\\n",
    "S_{2}^{E(\\delta)}(\\delta)\\\\\n",
    "\\vdots\\\\\n",
    "S_{N}^{E(\\delta)}(\\delta)\n",
    "\\end{array}\\right]^{T}=\\left[\\begin{array}{c}\n",
    "0\\\\\n",
    "S_{\\alpha_{1}}^{E(\\delta)}(\\delta)\\\\\n",
    "S_{\\alpha_{2}}^{E(\\delta)}(\\delta)\\\\\n",
    "\\vdots\\\\\n",
    "S_{\\alpha_{N}}^{E(\\delta)}(\\delta)\n",
    "\\end{array}\\right]^{T}$\n",
    "\n",
    "where\n",
    "\n",
    "$\\Delta\\left|E\\left(\\delta\\right)\\right|\\le\\sum_{i=1}^{N}\\Delta_{i}\\left|S_{\\alpha_{i}}^{E(\\delta)}(\\delta)\\right|$\n",
    "\n",
    "Let $NTF_{\\Sigma\\Delta_{2}}\\left(\\delta\\right)$ be the noise transfer function of the output modulator where the quantizer noise has a spectral density of $\\eta_{\\Sigma\\Delta_{2}}$. The output noise variance injected by the input $\\Sigma\\Delta$ modulator, $\\sigma_{\\Sigma\\Delta_{1}}^{2}$, is given by\n",
    "\n",
    "$\\sigma_{\\Sigma\\Delta_{2}}^{2} = \\intop_{-f_{B}}^{f_{B}}\\eta_{\\Sigma\\Delta}\\left[E^{*}\\left(f\\right)NTF_{\\Sigma\\Delta_{2}}^{*}\\left(f\\right)NTF_{\\Sigma\\Delta_{2}}\\left(f\\right)E\\left(f\\right)\\right]df +\\Delta_{q}^{T}\\left[\\intop_{-f_{B}}^{f_{B}}\\eta_{\\Sigma\\Delta}\\left[S^{E(\\delta)*}\\left(f\\right)NTF_{\\Sigma\\Delta_{2}}^{*}(f)NTF_{\\Sigma\\Delta_{2}}(f)S^{E(\\delta)}(\\delta)\\right]df\\right]\\Delta_{q}$\n",
    "\n",
    "### Output Noise Propagation due to Scaling Coefficient Rounding\n",
    "\n",
    "The third source of noise in the $\\Sigma\\Delta$ filter structure is from the rounding that occurs directly after the scaling coefficient bitshift implementations. Again, a rounding scheme is assumed in order to maintain a zero bias. It is also assumed that the rounding noise can be modeled as an additive white Gaussian source. Under that assumption, the spectral density of the rounding noise is\n",
    "\n",
    "$\\eta_{k_{i}}(f)=\\frac{\\sigma_{e}^{2}}{f_{s}}=\\frac{\\Delta_{qi}^{2}}{12\\cdot f_{s}}$\n",
    "\n",
    "To begin finding the total noise contribution from the scaling coefficient rounding, the transfer functions from the additive rounding noise inputs $e_{k_{1}}$ to the output y must be found. Taking note of the fact that the noise input for $k_{1}$ shares the same summation node as that of $\\beta_{0}$,the transfer function $g_{0}\\text{\\ensuremath{\\left(\\delta\\right)}}=\\frac{y\\left(\\delta\\right)}{e_{k_{1}\\left(\\delta\\right)}}$ can be found as\n",
    "\n",
    "$g_{0}\\left(\\delta\\right) =C_{\\delta}\\left(\\delta I-A_{\\delta}\\right)^{-1}A_{\\delta}T_{0}\\left[\\begin{array}{cccc}\n",
    "1 0 \\cdots & 0\\end{array}\\right]^{T}+1$\n",
    "\n",
    "The output noise variance $\\sigma_{k_{1`}}^{2}$ contributed by the rounding of the $k_{1}$ scaling coefficient can then be found as\n",
    "\n",
    "$\\sigma_{k_{1`}}^{2}=\\intop_{-f_{B}}^{f_{B}}\\eta_{e_{k_{1}}}(f)\\left|g_{0}\\left(f\\right)\\right|^{2}df$\n",
    "\n",
    "Similarly, the transfer function from $e_{k_{i}}$ to the output y shares the same summation node as $\\tilde{\\alpha}_{i}$ and $\\tilde{\\beta}_{i}$. The transfer function $g_{i}\\text{\\ensuremath{\\left(\\delta\\right)}}=\\frac{y\\left(\\delta\\right)}{e_{k_{i}\\left(\\delta\\right)}}$ can be found as\n",
    "\n",
    "$g\\left(\\delta\\right) =T_{s}^{T}T_{0}^{T}\\left(\\delta I-A_{\\delta}^{T}\\right)^{-1}C_{\\delta}^{T}$\n",
    "\n",
    "where the total output noise variance $\\sigma_{k_{i}`}^{2}$ for the ith scaling coefficient rounding can written as\n",
    "\n",
    "$\\sigma_{k_{i}`}^{2}=\\intop_{-f_{B}}^{f_{B}}\\eta_{e_{k_{i}}}(f)\\left|g_{i-1}\\left(f\\right)\\right|^{2}df$\n",
    "\n",
    "Taking all rounding contributions into consideration, the total output variance from scaling coefficient rounding $\\sigma_{k}^{2}$ can be written as\n",
    "\n",
    "$\\sigma_{k}^{2}=\\Delta_{q}^{T}\\left[\\intop_{-f_{B}}^{f_{B}}\\left(\\frac{1}{3f_{s}}\\right)g_{k}^{*}\\left(\\delta\\right)g_{k}\\left(\\delta\\right)df\\right]\\Delta_{q}$\n",
    "\n",
    "where\n",
    "\n",
    "$g_{k}\\left(\\delta\\right)=\\left[\\begin{array}{cccc}\n",
    "g_{0}\\left(\\delta\\right) g_{1}\\left(\\delta\\right) \\cdots g_{N-1}\\left(\\delta\\right)\\end{array}0\\right]^{T}$\n",
    "\n",
    "### Noise Floor in Integrator Sections due to \\Sigma\\Delta Representation Noise\n",
    "\n",
    "$\\sigma_{total}^{2}=\\sigma_{\\Sigma\\Delta1}^{2}+\\sigma_{\\Sigma\\Delta2}^{2}+\\sum_{k=1}^{n}\\sigma_{k_{i}}^{2}$\n",
    "\n",
    "The representation noise from the input and output $\\Sigma\\Delta$ modulators is an effect that propagates itself throughout the internal nodes of the $\\Sigma\\Delta$ filter architecture. Once a $\\Sigma\\Delta$ modulator architecture and OSR have been selected, the representation noise sets a fixed noise floor in all parts of the filter. Decreasing scaling coefficient round-off noise is therefore limited to the floor set by the representation noise of the input and feedback $\\Sigma\\Delta$ modulators. Reducing the quantization level $\\Delta_{q_{i}}$ for the fixed point representation in the ith filter node will increase the overall size of the filter circuitry without any reduction in overall internal filter noise. It is therefore prudent to select $\\Delta_{q_{i}}$ based on the condition\n",
    "\n",
    "$\\sigma_{k_{i}}^{2}\\ge\\sigma_{x_{i-1}\\Sigma\\Delta}^{2}$\n",
    "\n",
    "where $\\sigma_{k_{i}}^{2}$ is in band quantization noise variance due to scaling coefficient rounding and $\\sigma_{x_{i-1}\\Sigma\\Delta}^{2}$ is the in band noise variance due to the input and feedback $\\Sigma\\Delta$ modulators at the ith integrator node. The in band quantization noise from the rounding that occurs after each integrator stage coupling coefficient is\n",
    "\n",
    "$\\sigma_{k_{i}}^{2}=\\frac{\\Delta_{q_{i}}^{2}}{12\\cdot OSR}$\n",
    "\n",
    "It is a fact that $\\sigma_{x_{i-1}\\Sigma\\Delta}^{2}$ puts a limit onto how small one can make $\\sigma_{k_{i}}^{2}$ through choosing the quantization step size $\\Delta_{q_{i}}$ (i.e. $\\sigma_{k_{i}}^{2}\\nless\\sigma_{x_{i-1}\\Sigma\\Delta}^{2}$). The bound on the size of $\\Delta_{q}$ can be written as\n",
    "\n",
    "$\\Delta_{q_{i}}>\\sqrt{12\\cdot OSR\\cdot\\sigma_{x_{i}\\Sigma\\Delta}^{2}}$\n",
    "\n",
    "To calculate $\\sigma_{x_{i}\\Sigma\\Delta}^{2}$, the transfer function from the input and output $\\Sigma\\Delta$ modulator noise input to the state variables must be derived. For the input modulator to the ith integrator state, the transfer function is\n",
    "\n",
    "$f_{x\\Sigma\\Delta_{1}}(\\delta) = T_{s}^{-1}T_{0}^{-1}\\left(\\delta I-A_{\\delta}\\right)^{-1}B_{\\delta}$\n",
    "\n",
    "and the transfer function from the output modulator to the ith integrator state can be written as\n",
    "\n",
    "$f_{x\\Sigma\\Delta_{2}}(\\delta) = T_{s}^{-1}T_{0}^{-1}\\left(\\delta I-A_{\\delta}\\right)^{-1}A_{\\delta}T_{0}T_{s}K^{-1}\\left[\\begin{array}{cccc} 1 0 \\cdots 0\\end{array}\\right]^{T}$\n",
    "\n",
    "The noise variance at each node integrator stage due to the input and output modulators with respective noise transfer functions $NTF_{\\Sigma\\Delta_{1}}\\left(f\\right)$ and $NTF_{\\Sigma\\Delta_{2}}\\left(f\\right)$ can then be calculated as \n",
    "\n",
    "$\\sigma_{x_{i}\\Sigma\\Delta_{1}}^{2}\t=\\eta_{e}(f)\\int_{-f_{B}}^{f_{B}}\\left|f_{x_{i}\\Sigma\\Delta_{1}}(f)NTF_{\\Sigma\\Delta_{1}}\\left(f\\right)\\right|^{2}df$\n",
    "\n",
    "$\\sigma_{x_{i}\\Sigma\\Delta_{2}}^{2}\t=\\eta_{e}(f)\\int_{-f_{B}}^{f_{B}}\\left|f_{x_{i}\\Sigma\\Delta_{2}}(f)NTF_{\\Sigma\\Delta_{2}}\\left(f\\right)\\right|^{2}df$\n",
    "\n",
    "where\n",
    "\n",
    "$\\eta_{e}(f)=\\frac{\\sigma_{e}^{2}}{f_{s}}=\\left(3f_{s}\\right)^{-1}$\n",
    "\n",
    "The total noise variance at each integrator stage due to the input and output $\\Sigma\\Delta$ representation noise is\n",
    "\n",
    "$\\sigma_{x_{i}\\Sigma\\Delta}^{2}=\\sigma_{x_{i}\\Sigma\\Delta_{1}}^{2}+\\sigma_{x_{i}\\Sigma\\Delta_{2}}^{2}$\n",
    "\n",
    "where\n",
    "\n",
    "$\\sigma_{x\\Sigma\\Delta}^{2}=\\left[\\begin{array}{c}\n",
    "\\sigma_{x_{1}\\Sigma\\Delta}^{2}\\\\\n",
    "\\sigma_{x_{2}\\Sigma\\Delta}^{2}\\\\\n",
    "\\vdots\\\\\n",
    "\\sigma_{x_{n}\\Sigma\\Delta}^{2}\n",
    "\\end{array}\\right]$\n",
    "\n",
    "Having calculated $\\sigma_{x\\Sigma\\Delta}^{2}$, the lower bound on the quantization steps of the filter will be\n",
    "\n",
    "$\\Delta_{q}>\\sqrt{12\\cdot OSR\\cdot\\sigma_{x\\Sigma\\Delta}^{2}}$\n",
    "\n",
    "and can be used in determining the size of the fixed point signals in the filter architecture.\n",
    "\n",
    "[$\\Sigma\\Delta$ Stream Computation](https://escholarship.org/uc/item/4f46n0h6)"
   ]
  },
  {
   "cell_type": "code",
   "execution_count": 1,
   "id": "dcd49fc2",
   "metadata": {},
   "outputs": [],
   "source": [
    "# %load ./header.py\n",
    "import numpy as np\n",
    "from scipy import signal\n",
    "from scipy import linalg\n",
    "import control\n",
    "import matplotlib.pyplot as plt\n",
    "from IPython.display import Image\n",
    "\n",
    "import sys\n",
    "\n",
    "if '../sdfpy' not in sys.path:\n",
    "  sys.path.insert(0,'../sdfpy')\n",
    "\n",
    "import sd_sim\n",
    "import sdfpy as sdf\n",
    "\n",
    "OSR = 256      # oversample ratio\n",
    "fb = 22050     # nyquist\n",
    "fs = OSR*2*fb  # sampling frequency\n",
    "ts = 1/fs      # sampling period\n"
   ]
  },
  {
   "cell_type": "code",
   "execution_count": 2,
   "id": "674f8a34",
   "metadata": {},
   "outputs": [],
   "source": [
    "%store -r\n",
    "[Ad,Bd,Cd,Dd,k,k_inv,T0,Ts,f,ts,alpha,beta] = the_delta_filter"
   ]
  },
  {
   "cell_type": "markdown",
   "id": "e29bed3f",
   "metadata": {},
   "source": [
    "#### Input $\\Sigma\\Delta$ Representation Noise Propagation\n",
    "\n",
    "$NTF_{\\Sigma\\Delta_{1}}\\left(\\delta\\right)$ is the noise transfer function of the input modulator with quantizer noise spectral density of $\\eta_{\\Sigma\\Delta_{1}}$"
   ]
  },
  {
   "cell_type": "code",
   "execution_count": 3,
   "id": "04f603bf",
   "metadata": {},
   "outputs": [
    {
     "name": "stdout",
     "output_type": "stream",
     "text": [
      "\n",
      "         7.846e-15 s^2\n",
      "-------------------------------\n",
      "7.846e-15 s^2 + 1.772e-07 s + 1\n",
      "\n"
     ]
    }
   ],
   "source": [
    "# % Sigma Delta Specifications (2nd Order)\n",
    "n_sd = ts/3\n",
    "NTF_num = [ts**2, 0, 0]\n",
    "NTF_den = [ts**2, 2*ts, 1]\n",
    "NTF = control.tf(NTF_num, NTF_den)\n",
    "print(NTF)\n",
    "NTF = control.ss(control.tf(NTF_num, NTF_den))"
   ]
  },
  {
   "cell_type": "code",
   "execution_count": 4,
   "id": "164164d7",
   "metadata": {},
   "outputs": [
    {
     "data": {
      "image/png": "[encoded data removed]",
      "text/plain": [
       "<IPython.core.display.Image object>"
      ]
     },
     "execution_count": 4,
     "metadata": {},
     "output_type": "execute_result"
    }
   ],
   "source": [
    "Image(filename='./Figures/sd_input_noise.PNG')"
   ]
  },
  {
   "cell_type": "code",
   "execution_count": 5,
   "id": "0c6c2c88",
   "metadata": {},
   "outputs": [],
   "source": [
    "# % noise gain due to input sigma delta\n",
    "H_sd = control.ss(Ad,Bd,Cd,Dd);\n",
    "sys_sd1 = control.series(NTF, H_sd)\n",
    "[g1,phz] = sdf.delta_bode(sys_sd1.A,sys_sd1.B,sys_sd1.C,sys_sd1.D,f,ts)\n",
    "sig_2_sd1 = n_sd*(np.squeeze(g1)**2)\n",
    "\n",
    "# % noise gain due to output sigma delta\n",
    "A = linalg.solve(Ts, linalg.solve(T0, Ad))\n",
    "z = np.zeros(Ad.shape[1])\n",
    "z[0] = 1\n",
    "B = linalg.solve(Ts, linalg.solve(T0, Ad-np.eye(Ad.shape[0])))\n",
    "B = B @ T0 @ z.T\n",
    "B = B.reshape((Ad.shape[0],1))\n",
    "C = Cd @ T0 @ Ts\n",
    "D = 1\n",
    "E_sd = control.ss(A, B, C, D)\n",
    "sys_sd2 = control.series(NTF, E_sd)\n",
    "[g2,phz] = sdf.delta_bode(sys_sd2.A,sys_sd2.B,sys_sd2.C,sys_sd2.D,f,ts)\n",
    "sig_2_sd2 = n_sd*(np.squeeze(g2)**2)"
   ]
  },
  {
   "cell_type": "markdown",
   "id": "896afb9e",
   "metadata": {},
   "source": [
    "$\\sigma_{nom_{1}}^{2}=\\eta_{\\Sigma\\Delta}\\intop_{-f_{B}}^{f_{B}}\\tilde{H}_{\\Sigma\\Delta}^{'*}(f)NTF_{\\Sigma\\Delta_{1}}^{*}(f)NTF_{\\Sigma\\Delta_{1}}(f)\\tilde{H}_{\\Sigma\\Delta}^{'}(f)df$"
   ]
  },
  {
   "cell_type": "code",
   "execution_count": 6,
   "id": "d01e96de",
   "metadata": {},
   "outputs": [],
   "source": [
    "sig_2_nom = np.trapz(np.squeeze(sig_2_sd1),f) + np.trapz(np.squeeze(sig_2_sd2),f)"
   ]
  },
  {
   "cell_type": "markdown",
   "id": "5b31f19f",
   "metadata": {},
   "source": [
    "#### Output $\\Sigma\\Delta$ Representation Noise Propagation\n",
    "\n",
    "$g_{0}\\left(\\delta\\right) = C_{\\delta}\\left(\\delta I-A_{\\delta}\\right)^{-1}A_{\\delta}T_{0}\\left[\\begin{array}{cccc}\n",
    "1 & 0 & \\cdots & 0\\end{array}\\right]^{T}+1$\n",
    "\n",
    "$g\\left(\\delta\\right) = T_{s}^{T}T_{0}^{T}\\left(\\delta I-A_{\\delta}^{T}\\right)^{-1}C_{\\delta}^{T}$"
   ]
  },
  {
   "cell_type": "code",
   "execution_count": 7,
   "id": "6a7eaa61",
   "metadata": {},
   "outputs": [],
   "source": [
    "# %noise gain due to scaling coefficient multiplication roundoff\n",
    "sys_g0 = E_sd.copy()\n",
    "sys_g = control.ss(Ad.T,Cd.T,Ts.T @ T0.T, 0)\n",
    "sys_g.C[-1,:] = 0\n",
    "sys_g.D[-1,:] = 0\n",
    "sys_k = sdf.ss_concat_outputs(sys_g0, sys_g)\n",
    "[m1,phz] = sdf.delta_bode(sys_k.A,sys_k.B,sys_k.C,sys_k.D,f,ts)"
   ]
  },
  {
   "cell_type": "markdown",
   "id": "1d675542",
   "metadata": {},
   "source": [
    "$\\sigma_{k}^{2}=\\Delta_{q}^{T}\\left[\\intop_{-f_{B}}^{f_{B}}\\left(\\frac{1}{3f_{s}}\\right)g_{k}^{*}\\left(\\delta\\right)g_{k}\\left(\\delta\\right)df\\right]\\Delta_{q}$"
   ]
  },
  {
   "cell_type": "code",
   "execution_count": 8,
   "id": "7cf3ab76",
   "metadata": {},
   "outputs": [],
   "source": [
    "H = np.diag(((2*ts)/3)*np.trapz(np.squeeze(m1**2),f))"
   ]
  },
  {
   "cell_type": "markdown",
   "id": "b70273d3",
   "metadata": {},
   "source": [
    "#### Noise Floor in Integrator Sections due to $\\Sigma\\Delta$ Representation Noise\n",
    "\n",
    "$f_{x\\Sigma\\Delta_{1}}(\\delta) = T_{s}^{-1}T_{0}^{-1}\\left(\\delta I-A_{\\delta}\\right)^{-1}B_{\\delta}$"
   ]
  },
  {
   "cell_type": "code",
   "execution_count": 9,
   "id": "9cfb3154",
   "metadata": {},
   "outputs": [],
   "source": [
    "# %noise gain from input sigma delta to integrators\n",
    "C = linalg.solve(Ts, linalg.solve(T0, np.eye(Ad.shape[0])))\n",
    "C = k_inv @ C\n",
    "sys_x_sd1 = control.ss(Ad,Bd,C,0)\n",
    "sys_x_sd1 = control.series(NTF, sys_x_sd1)\n",
    "[m_sys_x_sd1,phz] = sdf.delta_bode(sys_x_sd1.A,sys_x_sd1.B,sys_x_sd1.C,sys_x_sd1.D,f,ts)"
   ]
  },
  {
   "cell_type": "markdown",
   "id": "14035e29",
   "metadata": {},
   "source": [
    "$f_{x\\Sigma\\Delta_{2}}(\\delta) = T_{s}^{-1}T_{0}^{-1}\\left(\\delta I-A_{\\delta}\\right)^{-1}A_{\\delta}T_{0}T_{s}K^{-1}\\left[\\begin{array}{cccc}\n",
    "1 0 \\cdots 0\\end{array}\\right]^{T}$"
   ]
  },
  {
   "cell_type": "code",
   "execution_count": 10,
   "id": "b6659726",
   "metadata": {},
   "outputs": [],
   "source": [
    "# %noise gain from output sigma delta to integrators\n",
    "z = np.zeros(Ad.shape[1])\n",
    "z[0] = 1\n",
    "B = Ad @ T0 @ Ts @ z.T\n",
    "B = B.reshape((Ad.shape[0],1))\n",
    "C = linalg.solve(Ts, linalg.solve(T0, np.eye(Ad.shape[0])))\n",
    "C = k_inv @ C\n",
    "sys_x_sd2 = control.series(NTF, control.ss(Ad, B, C, 0))\n",
    "[m_sys_x_sd2,phz] = sdf.delta_bode(sys_x_sd2.A,sys_x_sd2.B,sys_x_sd2.C,sys_x_sd2.D,f,ts)"
   ]
  },
  {
   "cell_type": "markdown",
   "id": "8a2e3f2c",
   "metadata": {},
   "source": [
    "$\\sigma_{x_{i}\\Sigma\\Delta_{1}}^{2}=\\eta_{e}(f)\\int_{-f_{B}}^{f_{B}}\\left|f_{x_{i}\\Sigma\\Delta_{1}}(f)NTF_{\\Sigma\\Delta_{1}}\\left(f\\right)\\right|^{2}df$\n",
    "\n",
    "$\\sigma_{x_{i}\\Sigma\\Delta_{2}}^{2}=\\eta_{e}(f)\\int_{-f_{B}}^{f_{B}}\\left|f_{x_{i}\\Sigma\\Delta_{2}}(f)NTF_{\\Sigma\\Delta_{2}}\\left(f\\right)\\right|^{2}df$"
   ]
  },
  {
   "cell_type": "code",
   "execution_count": 11,
   "id": "e5ad03d6",
   "metadata": {},
   "outputs": [],
   "source": [
    "sig_2_x_sd1 = n_sd*(np.squeeze(m_sys_x_sd1)**2)\n",
    "sig_2_x_sd2 = n_sd*(np.squeeze(m_sys_x_sd2)**2)"
   ]
  },
  {
   "cell_type": "markdown",
   "id": "e2937151",
   "metadata": {},
   "source": [
    "$\\sigma_{x_{i}\\Sigma\\Delta}^{2}=\\sigma_{x_{i}\\Sigma\\Delta_{1}}^{2}+\\sigma_{x_{i}\\Sigma\\Delta_{2}}^{2}$\n",
    "\n",
    "where\n",
    "\n",
    "$\\sigma_{x\\Sigma\\Delta}^{2}=\\left[\\begin{array}{c}\n",
    "\\sigma_{x_{1}\\Sigma\\Delta}^{2}\\\\\n",
    "\\sigma_{x_{2}\\Sigma\\Delta}^{2}\\\\\n",
    "\\vdots\\\\\n",
    "\\sigma_{x_{n}\\Sigma\\Delta}^{2}\n",
    "\\end{array}\\right]$"
   ]
  },
  {
   "cell_type": "code",
   "execution_count": 12,
   "id": "ca5069be",
   "metadata": {},
   "outputs": [],
   "source": [
    "# % total SD output noise \n",
    "sig_2_x_sd = sig_2_x_sd1 + sig_2_x_sd2"
   ]
  },
  {
   "cell_type": "code",
   "execution_count": 13,
   "id": "d9c9f83b",
   "metadata": {},
   "outputs": [
    {
     "name": "stdout",
     "output_type": "stream",
     "text": [
      "2.9533340057457332e-12\n",
      "[[1.27673162e-33 1.32776601e-33 1.38133179e-33 ... 2.17864972e-20\n",
      "  2.21309611e-20 2.24822451e-20]\n",
      " [1.18479229e-31 1.25547098e-31 1.33044969e-31 ... 1.73193818e-10\n",
      "  1.76593561e-10 1.80060433e-10]\n",
      " [6.77375551e-29 7.04948493e-29 7.32763731e-29 ... 1.71131796e-12\n",
      "  1.74295020e-12 1.77520760e-12]\n",
      " [9.94618798e-33 1.03528595e-32 1.07632742e-32 ... 5.83493885e-11\n",
      "  5.94925861e-11 6.06583569e-11]]\n",
      "[[1.30202429e-03 0.00000000e+00 0.00000000e+00 0.00000000e+00\n",
      "  0.00000000e+00]\n",
      " [0.00000000e+00 3.90992733e-10 0.00000000e+00 0.00000000e+00\n",
      "  0.00000000e+00]\n",
      " [0.00000000e+00 0.00000000e+00 3.29092498e-10 0.00000000e+00\n",
      "  0.00000000e+00]\n",
      " [0.00000000e+00 0.00000000e+00 0.00000000e+00 2.81457588e-10\n",
      "  0.00000000e+00]\n",
      " [0.00000000e+00 0.00000000e+00 0.00000000e+00 0.00000000e+00\n",
      "  0.00000000e+00]]\n",
      "Stored 'the_noise' (list)\n"
     ]
    }
   ],
   "source": [
    "the_noise = [sig_2_nom, sig_2_x_sd, H]\n",
    "print(sig_2_nom)\n",
    "print(sig_2_x_sd)\n",
    "print(H)\n",
    "%store the_noise"
   ]
  },
  {
   "cell_type": "markdown",
   "id": "6d3e9559",
   "metadata": {},
   "source": [
    "Goto the next step - [Filter Bitwidth Optimization](./5_bitwidth_opt.ipynb)"
   ]
  }
 ],
 "metadata": {
  "kernelspec": {
   "display_name": "Python 3 (ipykernel)",
   "language": "python",
   "name": "python3"
  },
  "language_info": {
   "codemirror_mode": {
    "name": "ipython",
    "version": 3
   },
   "file_extension": ".py",
   "mimetype": "text/x-python",
   "name": "python",
   "nbconvert_exporter": "python",
   "pygments_lexer": "ipython3",
   "version": "3.9.12"
  }
 },
 "nbformat": 4,
 "nbformat_minor": 5
}
