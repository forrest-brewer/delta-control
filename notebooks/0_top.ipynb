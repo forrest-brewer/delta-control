{
 "cells": [
  {
   "cell_type": "markdown",
   "id": "cbbf3c12",
   "metadata": {},
   "source": [
    "# $\\Sigma\\Delta$ Stream Computation\n",
    "\n",
    "![Shift Based $\\Sigma\\Delta$ Filter Architecture](./Figures/IIR.png)"
   ]
  },
  {
   "cell_type": "markdown",
   "id": "3e478b54",
   "metadata": {},
   "source": [
    "# Example Filters\n",
    "\n",
    "choose a filter\n",
    "\n",
    "[cheby2 bandpass - 300Hz to 3kHz](./1_cheby2_bandpass.ipynb)\n"
   ]
  },
  {
   "cell_type": "markdown",
   "id": "f4c7801c",
   "metadata": {},
   "source": [
    "# References\n",
    "[$\\Sigma\\Delta$ Stream Computation: A New Paradigm for Low Power and High Resolution Feedback Control](https://escholarship.org/uc/item/4f46n0h6) by Poverelli, Joseph Sam\n",
    "\n",
    "[Digital Control and Estimation: A Unified Approach](https://dl.acm.org/doi/10.5555/574885) by Richard H Middleton & \n",
    "Graham C Goodwin\n",
    "\n",
    "[A generalized direct-form delta operator-based IIR filter with minimum noise gain and sensitivity](https://ieeexplore.ieee.org/document/933811) by Ngai Wong & Tung-Sang Ng"
   ]
  },
  {
   "cell_type": "code",
   "execution_count": null,
   "id": "6fa96fc7",
   "metadata": {},
   "outputs": [],
   "source": []
  }
 ],
 "metadata": {
  "kernelspec": {
   "display_name": "Python 3 (ipykernel)",
   "language": "python",
   "name": "python3"
  },
  "language_info": {
   "codemirror_mode": {
    "name": "ipython",
    "version": 3
   },
   "file_extension": ".py",
   "mimetype": "text/x-python",
   "name": "python",
   "nbconvert_exporter": "python",
   "pygments_lexer": "ipython3",
   "version": "3.9.12"
  }
 },
 "nbformat": 4,
 "nbformat_minor": 5
}
