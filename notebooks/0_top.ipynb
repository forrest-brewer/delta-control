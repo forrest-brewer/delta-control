{
 "cells": [
  {
   "cell_type": "markdown",
   "id": "cbbf3c12",
   "metadata": {},
   "source": [
    "# $\\Sigma\\Delta$ Stream Computation\n",
    "\n",
    "$\\Sigma\\Delta$ Stream Computation is a strategy for implementing low complexity, low power, low latency, continuous time performance controllers in digital logic. The control implementation strategy does this by directly processing high resolution, high bandwidth $\\Sigma\\Delta$ encoded bitstreams. Both inputs and outputs can be encoded as sigma-delta bitstreams leading to inexpensive hardware realizations. This also allows direct connection between $\\Sigma\\Delta$ converters and the controller hardware without need to perform parallel data conversion and thus eliminates the associated overhead and latency.\n",
    "\n",
    "<img src=\"Figures/IIR.png\" />\n",
    "\n",
    "[$\\Sigma\\Delta$ Stream Computation](https://escholarship.org/uc/item/4f46n0h6)\n",
    "\n",
    "## Goals\n",
    "- Make $\\Sigma\\Delta$ Stream Computation accessible to a wider audience\n",
    "- ipython Jupyter notebooks that elucidate the underlying math with python applications\n",
    "    - Inputs: state space model, OSR and sampling bit rate\n",
    "    - Outputs: optimized cofficents for Stream Computation  \n",
    "    - SystemVerilog implementations and simulations\n",
    "    \n",
    "## Benefits of $\\Sigma\\Delta$ Stream Computation\n",
    "- Direct computation on $\\Sigma\\Delta$ encoded bitstreams\n",
    "- Lower latency, xOSR less\n",
    "- Less resources, mutiplier-less, 10x\n",
    "- Based on integraters vs time shift\n",
    "    - Removed Singularity at $1 + j0$\n",
    "\n",
    "[$\\Sigma\\Delta$ Stream Computation](https://escholarship.org/uc/item/4f46n0h6)\n",
    "\n",
    "## Gravitating Poles & Zeros\n",
    "The current paradigm in discrete filter design revolves around shift based algorithms. The shift operator $q$ can be defined as\n",
    "\n",
    "$qx\\left(k\\Delta\\right)=x\\left(k\\Delta+\\Delta\\right)$\n",
    "\n",
    "The sampling zero displays very little variation with sampling rate while the poles and zeros change significantly. The poles and zeros are more heavily dependent on $\\Delta$. The significant zeros and poles converge to $1 + j0$ as $\\Delta$ $\\rightarrow 0$ causing the system to blow up.  \n",
    "\n",
    "<img src=\"./Figures/z_domain_pz.png\" />\n",
    "\n",
    "The $\\delta$-operator is a difference based operator defined as\n",
    "\n",
    "$\\delta x\\left(k\\Delta\\right)\\triangleq\\frac{x\\left(k\\Delta+\\Delta\\right)-x\\left(k\\Delta\\right)}{\\Delta}$\n",
    "\n",
    "which is analogous to a discrete derivative approximation. Taking the limit of $\\delta x\\left(k\\right)$ as the sampling period approaches zero we have\n",
    "\n",
    "$\\underset{\\Delta\\rightarrow0}{lim}\\delta x\\left(k\\Delta\\right)=\\underset{\\Delta\\rightarrow0}{lim}\\frac{x\\left(k\\Delta+\\Delta\\right)-x\\left(k\\Delta\\right)}{\\Delta}=\\frac{dx}{dt}$\n",
    "\n",
    "The significant poles and zeros are largely independent of the sampling rate and converge to their continuous time counterparts as $\\Delta$ $\\rightarrow 0$.\n",
    "\n",
    "<img src=\"./Figures/d_domain_pz.png\" />\n",
    "\n",
    "[Digital Control and Estimation](https://dl.acm.org/doi/10.5555/574885)\n",
    "\n",
    "## Why not Shift-Based LTI?\n",
    "\n",
    "As the sampling period approaches zero, the poles of the filters converge to z=1 on the unit circle in the complex plane. In fixed point realizations where the coefficients of a filter are represented with finite precision, the possible locations of filter poles in the unit circle stability region of the Z domain become sparse in and around the real axis. The figure illustrates this effect for a fourth order lowpass filter while increasing the sample rate from 1kHz to 10kHz. As can be seen the poles and zeros converge quickly. What is more disturbing is that the black dots represent the quantization points for 5 bit coefficients in the filter.\n",
    "\n",
    "Notice that z=1 is not a possible location within the unit circle for complex conjugate poles with distinct complex components. As sampling rates increase, discerning between distinct complex conjugate poles requires larger coefficient bitwidths leading to ever expanding logic implementations. Without, large coefficient bitwidths, the filter will experience severe filter magnitude and phase response deviations as well as the potential for instability. It seems counter intuitive that as the sample rate increases the numerical stability of the fixed point filter implementation decreases.\n",
    "\n",
    "<img src=\"./Figures/pz_map.png\" />\n",
    "\n",
    "[$\\Sigma\\Delta$ Stream Computation](https://escholarship.org/uc/item/4f46n0h6)\n",
    "\n"
   ]
  },
  {
   "cell_type": "markdown",
   "id": "3e478b54",
   "metadata": {},
   "source": [
    "# Example Implementations\n",
    "\n",
    "\n",
    "Several digital filter implementations using $\\Sigma\\Delta$ stream computation are listed below. The computations are broken up into five steps.\n",
    "\n",
    "1. Pick a filter to implement\n",
    "   - Generate a continuous state space model for the filter\n",
    "2. Convert the continuous state space model into a digitally sampled $\\delta\\$ domain representation\n",
    "3. Preform a sensitivity analysis\n",
    "4. Analyze the noise gain\n",
    "5. Use the sensitivity and noise gain analysis to calculate the optimal fixed point representations of the coefficients and internal node gains\n",
    "\n",
    "## Pick a filter to implement\n",
    "\n",
    "[cheby2 bandpass - 300Hz to 3kHz](./1_cheby2_bandpass.ipynb)\n",
    "\n",
    "\n",
    "---\n",
    "---"
   ]
  },
  {
   "cell_type": "markdown",
   "id": "f4c7801c",
   "metadata": {},
   "source": [
    "---\n",
    "# References\n",
    "[$\\Sigma\\Delta$ Stream Computation: A New Paradigm for Low Power and High Resolution Feedback Control](https://escholarship.org/uc/item/4f46n0h6) by Poverelli, Joseph Sam\n",
    "\n",
    "[Digital Control and Estimation: A Unified Approach](https://dl.acm.org/doi/10.5555/574885) by Richard H Middleton & \n",
    "Graham C Goodwin\n",
    "\n",
    "[A generalized direct-form delta operator-based IIR filter with minimum noise gain and sensitivity](https://ieeexplore.ieee.org/document/933811) by Ngai Wong & Tung-Sang Ng"
   ]
  },
  {
   "cell_type": "code",
   "execution_count": null,
   "id": "6fa96fc7",
   "metadata": {},
   "outputs": [],
   "source": []
  }
 ],
 "metadata": {
  "kernelspec": {
   "display_name": "Python 3 (ipykernel)",
   "language": "python",
   "name": "python3"
  },
  "language_info": {
   "codemirror_mode": {
    "name": "ipython",
    "version": 3
   },
   "file_extension": ".py",
   "mimetype": "text/x-python",
   "name": "python",
   "nbconvert_exporter": "python",
   "pygments_lexer": "ipython3",
   "version": "3.9.12"
  }
 },
 "nbformat": 4,
 "nbformat_minor": 5
}
