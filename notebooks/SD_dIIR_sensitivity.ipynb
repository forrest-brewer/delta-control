{
 "cells": [
  {
   "cell_type": "markdown",
   "id": "07614fbf",
   "metadata": {},
   "source": [
    "# Sensitivity Analysis"
   ]
  },
  {
   "cell_type": "code",
   "execution_count": null,
   "id": "b333891b",
   "metadata": {},
   "outputs": [],
   "source": [
    "import numpy as np\n",
    "from scipy import signal\n",
    "from scipy import linalg\n",
    "import control\n",
    "import matplotlib.pyplot as plt\n",
    "import pickle"
   ]
  },
  {
   "cell_type": "code",
   "execution_count": null,
   "id": "b39a5f36",
   "metadata": {},
   "outputs": [],
   "source": [
    "OSR = 256      # oversample ratio\n",
    "fb = 22050     # nyquist\n",
    "fs = OSR*2*fb  # sampling frequency\n",
    "ts = 1/fs      # sampling period"
   ]
  },
  {
   "cell_type": "code",
   "execution_count": null,
   "id": "30dbadc5",
   "metadata": {},
   "outputs": [],
   "source": [
    "# file = open('delta_filter_ss.pickle', 'rb')\n",
    "# [A,B,C,D,T0,Ts,f,ts] = pickle.load(file)\n",
    "# file.close()"
   ]
  },
  {
   "cell_type": "markdown",
   "id": "8f17f982",
   "metadata": {},
   "source": [
    "$\\large \\delta = (e^{\\frac{-j2\\pi\\omega}{fs}} - 1) \\times \\frac{1}{ts}$\n",
    "\n",
    "$H(\\delta)=\\tilde{C_{\\delta}}(\\delta I-\\tilde{A_{\\delta}})\\tilde{B_{\\delta}}+D_{\\delta}$"
   ]
  },
  {
   "cell_type": "code",
   "execution_count": null,
   "id": "3280fbeb",
   "metadata": {},
   "outputs": [],
   "source": [
    "def delta_bode(A,B,C,D,f,ts):\n",
    "  q     = C.shape[0]\n",
    "  p     = B.shape[1]\n",
    "  fs    = 1/ts\n",
    "  mag   = np.zeros((q,p,f.shape[0]))\n",
    "  phz   = np.zeros((q,p,f.shape[0]))\n",
    "  delta = (np.exp(1j*2*np.pi*(f/fs))-1)/ts\n",
    "\n",
    "  for i in range(f.shape[0]):\n",
    "      A_d = delta[i] * np.eye(A.shape[0]) - A\n",
    "        \n",
    "      [A_d, T_d] = linalg.matrix_balance(A_d)\n",
    "      B_d = linalg.solve(T_d, B)\n",
    "      C_d = C @ T_d\n",
    "      \n",
    "      h   = linalg.solve(A_d, B_d)\n",
    "      h   = (C_d @ h) + D\n",
    "      mag[:,:,i] = np.abs(h)\n",
    "      phz[:,:,i] = 180*np.arctan2(np.imag(h),np.real(h))/np.pi\n",
    "  return mag, phz"
   ]
  },
  {
   "cell_type": "code",
   "execution_count": null,
   "id": "2b1afee6",
   "metadata": {},
   "outputs": [],
   "source": [
    "def ss_concat_outputs(sys_0, sys_1):\n",
    "  A = linalg.block_diag(sys_0.A, sys_1.A)\n",
    "  B = np.vstack((sys_0.B       , sys_1.B))\n",
    "  C = linalg.block_diag(sys_0.C, sys_1.C)\n",
    "  D = np.vstack((sys_0.D       , sys_1.D))\n",
    "  return control.ss(A,B,C,D)"
   ]
  },
  {
   "cell_type": "markdown",
   "id": "8f3bf615",
   "metadata": {},
   "source": [
    "## SD dIIR Sensitivity\n",
    "def SD_dIIR_sensitivity(A,B,C,D,T0,Ts,f,ts):"
   ]
  },
  {
   "cell_type": "code",
   "execution_count": null,
   "id": "a40f07b4",
   "metadata": {},
   "outputs": [],
   "source": [
    "def SD_dIIR_sensitivity(A,B,C,D,T0,Ts,f,ts):\n",
    "  # %Sensitivity due to feedthrough coefficient\n",
    "  B_beta = np.zeros((1, A.shape[1])).T\n",
    "  B_beta[0][0] = 1\n",
    "  B_beta = A @ T0 @ B_beta\n",
    "  S_beta0 = control.ss(A,B_beta,C,1)\n",
    "\n",
    "  # %Sensitivity due to numerator coefficients\n",
    "  S_beta = control.ss(A.T,C.T,Ts.T @ T0.T,0)\n",
    "\n",
    "  # %Sensitivity due to denominator coefficients\n",
    "  H = control.ss(A,B,C,D)\n",
    "  S_alpha = control.series(H, S_beta)\n",
    "  S_bsys = ss_concat_outputs(S_beta0, S_beta)\n",
    "  null_sys = control.ss(0, 0, 0, 0)\n",
    "  S_asys = ss_concat_outputs(null_sys, S_alpha)\n",
    "\n",
    "  [S_bmag,S_bphz] = delta_bode(S_bsys.A,S_bsys.B,S_bsys.C,S_bsys.D,f,ts)\n",
    "  [S_amag,S_aphz] = delta_bode(S_asys.A,S_asys.B,S_asys.C,S_asys.D,f,ts)\n",
    "  S_mag = np.squeeze(S_bmag + S_amag)\n",
    "  S_phz = np.squeeze(S_bphz + S_aphz)\n",
    "\n",
    "  return S_mag, S_phz\n"
   ]
  },
  {
   "cell_type": "code",
   "execution_count": null,
   "id": "e11cf842",
   "metadata": {},
   "outputs": [],
   "source": [
    "%store -r\n",
    "[Ad,Bd,Cd,Dd,T0,Ts,f,ts] = the_delta_filter\n",
    "\n",
    "SD_dIIR_sensitivity(Ad,Bd,Cd,Dd,T0,Ts,f,ts)"
   ]
  },
  {
   "cell_type": "code",
   "execution_count": null,
   "id": "759d8b74",
   "metadata": {},
   "outputs": [],
   "source": []
  }
 ],
 "metadata": {
  "kernelspec": {
   "display_name": "Python 3 (ipykernel)",
   "language": "python",
   "name": "python3"
  },
  "language_info": {
   "codemirror_mode": {
    "name": "ipython",
    "version": 3
   },
   "file_extension": ".py",
   "mimetype": "text/x-python",
   "name": "python",
   "nbconvert_exporter": "python",
   "pygments_lexer": "ipython3",
   "version": "3.9.12"
  }
 },
 "nbformat": 4,
 "nbformat_minor": 5
}
