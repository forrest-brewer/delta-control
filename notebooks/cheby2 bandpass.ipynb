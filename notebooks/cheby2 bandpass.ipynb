{
 "cells": [
  {
   "cell_type": "markdown",
   "id": "5e92b8b9",
   "metadata": {},
   "source": [
    "# Filter example - cheby2 bandpass"
   ]
  },
  {
   "cell_type": "code",
   "execution_count": 5,
   "id": "d2fff526",
   "metadata": {},
   "outputs": [],
   "source": [
    "import numpy as np\n",
    "from scipy import signal\n",
    "from scipy import linalg\n",
    "import control\n",
    "import matplotlib.pyplot as plt\n",
    "import pickle"
   ]
  },
  {
   "cell_type": "markdown",
   "id": "ccab8b94",
   "metadata": {},
   "source": [
    "## Filter Specifications"
   ]
  },
  {
   "cell_type": "code",
   "execution_count": 6,
   "id": "236a02e1",
   "metadata": {},
   "outputs": [],
   "source": [
    "OSR = 256      # oversample ratio\n",
    "fb = 22050     # nyquist\n",
    "fs = OSR*2*fb  # sampling frequency\n",
    "ts = 1/fs      # sampling period"
   ]
  },
  {
   "cell_type": "markdown",
   "id": "b18fe934",
   "metadata": {},
   "source": [
    "## Bandpass Filter - 300Hz to 3kHz"
   ]
  },
  {
   "cell_type": "code",
   "execution_count": 7,
   "id": "b3118065",
   "metadata": {},
   "outputs": [
    {
     "name": "stdout",
     "output_type": "stream",
     "text": [
      "A.shape() (4, 4)\n",
      "B.shape() (4, 1)\n",
      "C.shape() (1, 4)\n",
      "D.shape() (1, 1)\n"
     ]
    }
   ],
   "source": [
    "Rs = 60\n",
    "Wn = 2*np.pi*np.array([300, 3000])\n",
    "ftype = 'bandpass'\n",
    "N = 4\n",
    "\n",
    "[z,p,k] = signal.cheby2(N/2,Rs,Wn,ftype, analog=True, output='zpk')\n",
    "[A,B,C,D] = signal.zpk2ss(z,p,k)\n",
    "\n",
    "print('A.shape()', A.shape)\n",
    "print('B.shape()', B.shape)\n",
    "print('C.shape()', C.shape)\n",
    "print('D.shape()', D.shape)"
   ]
  },
  {
   "cell_type": "code",
   "execution_count": 8,
   "id": "6daf27ec",
   "metadata": {},
   "outputs": [],
   "source": [
    "file = open('filter_ss.pickle', 'wb')\n",
    "pickle.dump((A,B,C,D), file)\n",
    "file.close()"
   ]
  },
  {
   "cell_type": "code",
   "execution_count": null,
   "id": "d1f5307e",
   "metadata": {},
   "outputs": [],
   "source": []
  },
  {
   "cell_type": "code",
   "execution_count": null,
   "id": "b497f69e",
   "metadata": {},
   "outputs": [],
   "source": []
  },
  {
   "cell_type": "code",
   "execution_count": null,
   "id": "aaaa6fc7",
   "metadata": {},
   "outputs": [],
   "source": []
  }
 ],
 "metadata": {
  "kernelspec": {
   "display_name": "Python 3 (ipykernel)",
   "language": "python",
   "name": "python3"
  },
  "language_info": {
   "codemirror_mode": {
    "name": "ipython",
    "version": 3
   },
   "file_extension": ".py",
   "mimetype": "text/x-python",
   "name": "python",
   "nbconvert_exporter": "python",
   "pygments_lexer": "ipython3",
   "version": "3.9.12"
  }
 },
 "nbformat": 4,
 "nbformat_minor": 5
}
