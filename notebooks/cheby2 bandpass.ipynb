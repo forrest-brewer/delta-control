{
 "cells": [
  {
   "cell_type": "markdown",
   "id": "5e92b8b9",
   "metadata": {},
   "source": [
    "# Filter example - cheby2 bandpass"
   ]
  },
  {
   "cell_type": "code",
   "execution_count": 1,
   "id": "d2fff526",
   "metadata": {},
   "outputs": [],
   "source": [
    "import numpy as np\n",
    "from scipy import signal\n",
    "from scipy import linalg\n",
    "import control\n",
    "import matplotlib.pyplot as plt\n",
    "import pickle"
   ]
  },
  {
   "cell_type": "markdown",
   "id": "ccab8b94",
   "metadata": {},
   "source": [
    "## Filter Specifications"
   ]
  },
  {
   "cell_type": "code",
   "execution_count": 2,
   "id": "236a02e1",
   "metadata": {},
   "outputs": [],
   "source": [
    "OSR = 256      # oversample ratio\n",
    "fb = 22050     # nyquist\n",
    "fs = OSR*2*fb  # sampling frequency\n",
    "ts = 1/fs      # sampling period"
   ]
  },
  {
   "cell_type": "markdown",
   "id": "b18fe934",
   "metadata": {},
   "source": [
    "## Bandpass Filter - 300Hz to 3kHz"
   ]
  },
  {
   "cell_type": "code",
   "execution_count": 6,
   "id": "b3118065",
   "metadata": {},
   "outputs": [
    {
     "name": "stdout",
     "output_type": "stream",
     "text": [
      "(array([[-1.07239893e+03, -7.16367470e+07, -3.81029515e+10,\n",
      "        -1.26242182e+15],\n",
      "       [ 1.00000000e+00,  0.00000000e+00,  0.00000000e+00,\n",
      "         0.00000000e+00],\n",
      "       [ 0.00000000e+00,  1.00000000e+00,  0.00000000e+00,\n",
      "         0.00000000e+00],\n",
      "       [ 0.00000000e+00,  0.00000000e+00,  1.00000000e+00,\n",
      "         0.00000000e+00]]), array([[1.],\n",
      "       [0.],\n",
      "       [0.],\n",
      "       [0.]]), array([[-1.07239893e+00,  5.75019733e+05, -3.81029515e+07,\n",
      "        -1.22070312e-03]]), array([[0.001]]))\n"
     ]
    }
   ],
   "source": [
    "Rs = 60\n",
    "Wn = 2*np.pi*np.array([300, 3000])\n",
    "ftype = 'bandpass'\n",
    "N = 4\n",
    "\n",
    "[z,p,k] = signal.cheby2(N/2,Rs,Wn,ftype, analog=True, output='zpk')\n",
    "the_filter = signal.zpk2ss(z,p,k)\n",
    "\n",
    "print(the_filter)"
   ]
  },
  {
   "cell_type": "code",
   "execution_count": 7,
   "id": "6daf27ec",
   "metadata": {},
   "outputs": [
    {
     "name": "stdout",
     "output_type": "stream",
     "text": [
      "Stored 'the_filter' (tuple)\n"
     ]
    }
   ],
   "source": [
    "# file = open('filter_ss.pickle', 'wb')\n",
    "# pickle.dump((A,B,C,D), file)\n",
    "# file.close()\n",
    "%store the_filter"
   ]
  },
  {
   "cell_type": "code",
   "execution_count": null,
   "id": "d9820330",
   "metadata": {},
   "outputs": [],
   "source": []
  }
 ],
 "metadata": {
  "kernelspec": {
   "display_name": "Python 3 (ipykernel)",
   "language": "python",
   "name": "python3"
  },
  "language_info": {
   "codemirror_mode": {
    "name": "ipython",
    "version": 3
   },
   "file_extension": ".py",
   "mimetype": "text/x-python",
   "name": "python",
   "nbconvert_exporter": "python",
   "pygments_lexer": "ipython3",
   "version": "3.9.12"
  }
 },
 "nbformat": 4,
 "nbformat_minor": 5
}
