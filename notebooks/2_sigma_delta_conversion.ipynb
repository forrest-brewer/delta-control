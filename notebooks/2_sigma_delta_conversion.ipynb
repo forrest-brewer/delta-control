{
 "cells": [
  {
   "cell_type": "code",
   "execution_count": 1,
   "id": "e217836b",
   "metadata": {},
   "outputs": [],
   "source": [
    "# %load ./header.py\n",
    "import numpy as np\n",
    "from scipy import signal\n",
    "from scipy import linalg\n",
    "import control\n",
    "import matplotlib.pyplot as plt\n",
    "from IPython.display import Image\n",
    "\n",
    "import sys\n",
    "\n",
    "if '../sdfpy' not in sys.path:\n",
    "  sys.path.insert(0,'../sdfpy')\n",
    "\n",
    "import sd_sim\n",
    "import sdfpy as sdf\n",
    "\n",
    "OSR = 256      # oversample ratio\n",
    "fb = 22050     # nyquist\n",
    "fs = OSR*2*fb  # sampling frequency\n",
    "ts = 1/fs      # sampling period\n"
   ]
  },
  {
   "cell_type": "code",
   "execution_count": 2,
   "id": "48368c5f",
   "metadata": {},
   "outputs": [
    {
     "name": "stdout",
     "output_type": "stream",
     "text": [
      "[[-1.07239893e+03 -7.16367470e+07 -3.81029515e+10 -1.26242182e+15]\n",
      " [ 1.00000000e+00  0.00000000e+00  0.00000000e+00  0.00000000e+00]\n",
      " [ 0.00000000e+00  1.00000000e+00  0.00000000e+00  0.00000000e+00]\n",
      " [ 0.00000000e+00  0.00000000e+00  1.00000000e+00  0.00000000e+00]] [[1.]\n",
      " [0.]\n",
      " [0.]\n",
      " [0.]] [[-1.07239893e+00  5.75019733e+05 -3.81029515e+07 -1.22070312e-03]] [[0.001]]\n"
     ]
    }
   ],
   "source": [
    "%store -r\n",
    "[A,B,C,D] = the_filter\n",
    "print(A,B,C,D)"
   ]
  },
  {
   "cell_type": "markdown",
   "id": "c936e467",
   "metadata": {},
   "source": [
    "## Matrix Balancing\n",
    "An important step in step in linear algebra computations is matrix balancing. This is the preprocessing of an ill conditioned matrix. The matrix is unbalanced when the L2 norm of the rows / columns are different by orders of magnitude. This leads to computations that are numerically unstable. \n",
    "\n",
    "[Matrix Balancing in Lp Norms](https://escholarship.org/uc/item/3847b5dr)"
   ]
  },
  {
   "cell_type": "code",
   "execution_count": 3,
   "id": "8ffce8e8",
   "metadata": {},
   "outputs": [],
   "source": [
    "[A, T] = linalg.matrix_balance(A)\n",
    "B = linalg.solve(T, B) \n",
    "C = C @ T"
   ]
  },
  {
   "cell_type": "markdown",
   "id": "f0d84a05",
   "metadata": {},
   "source": [
    "## $\\Sigma\\Delta$ Modulation\n",
    "$\\Sigma\\Delta$ stream computation is done directly on a 2nd order $\\Sigma\\Delta$ modulated bitstream. The bitstream must be over sampled beyond the Nyquist samle rate to produce data with adequate signal to noise ratio (SNR). The oversampling ratio (OSR) is the integer multiple of increased sampling over the Nyquist frequency. \n",
    "\n",
    "The density of ones at the modulator output is proportional to the input signal. A greater number of zeros is generated for decreasing input and more ones for increasing input. The integrator in $\\Sigma\\Delta$ modulator acts as a lowpass filter for the signal and filters out the high frequency quantization noise. This noise shaping increases the SNR beyond what the oversampling does. \n",
    "\n",
    "[Tutorial Sigma-Delta ADCs](https://www.maximintegrated.com/en/design/technical-documents/tutorials/1/1870.html)"
   ]
  },
  {
   "cell_type": "code",
   "execution_count": 4,
   "id": "e25b7a7e",
   "metadata": {},
   "outputs": [],
   "source": [
    "OSR = 256      # oversample ratio\n",
    "fb  = 22050    # nyquist\n",
    "fs  = OSR*2*fb # sampling frequency\n",
    "ts  = 1/fs     # sampling period"
   ]
  },
  {
   "cell_type": "markdown",
   "id": "bd185909",
   "metadata": {},
   "source": [
    "# State Space Model\n",
    "\n",
    "- x and $\\dot{x}$ are the state vector and the differential state vector respectively\n",
    "- u and y are input vector and output vector respectively\n",
    "- A is the system matrix\n",
    "- B and C are the input and the output matrices\n",
    "- D is the feed-forward matrix\n",
    "\n",
    "Below is the continuous time representation\n",
    "\n",
    "$\\dot{x} = A_{c}x + B_{c}u$<br>\n",
    "$y = C_{c}x + D_{c}u$\n",
    "\n",
    "Which can also be represented in block matrix form\n",
    "\n",
    "$\\left[\\begin{matrix}A & B\\\\C & D\\end{matrix}\\right]$ := $C \\left(Is - A\\right)^{-1} B + D$\n",
    "\n",
    "[Control Systems - State Space Model](https://www.tutorialspoint.com/control_systems/control_systems_state_space_model.htm)"
   ]
  },
  {
   "cell_type": "markdown",
   "id": "1c29490a",
   "metadata": {},
   "source": [
    "## Converting from Continuous Time to Sampled Time\n",
    "The $\\delta$-operator is a difference based operator defined as\n",
    "\n",
    "$\\delta x\\left(k\\Delta\\right)\\triangleq\\frac{x\\left(k\\Delta+\\Delta\\right)-x\\left(k\\Delta\\right)}{\\Delta}$\n",
    "\n",
    "Taking the limit of $\\delta x\\left(k\\right)$ as the sampling period approaches zero leads to\n",
    "\n",
    "$\\underset{\\Delta\\rightarrow0}{lim}\\delta x\\left(k\\Delta\\right)=\\underset{\\Delta\\rightarrow0}{lim}\\frac{x\\left(k\\Delta+\\Delta\\right)-x\\left(k\\Delta\\right)}{\\Delta}=\\frac{dx}{dt}$\n",
    "\n",
    "Which is continuous time differentiation\n",
    "\n",
    "The corresponding discrete $\\delta$ based state space representation\n",
    "\n",
    "$\\delta$x = $A_{\\delta}x + B_{\\delta}u$<br>\n",
    "$y = C_{\\delta}x + D_{\\delta}u$\n",
    "\n",
    "With the state space matrices defined below \n",
    "\n",
    "${\\Delta} = ts = \\dfrac{1}{fs}$, sampling period\n",
    "\n",
    "$A_{\\delta}=\\frac{e^{A_{c}\\Delta}-I}{\\Delta}$\n",
    "\n",
    "$B_{\\delta}=\\frac{1}{\\Delta}\\int_{0}^{\\Delta}e^{A_{c}\\left(t-\\tau\\right)}B_{c}u\\left(\\tau\\right)d\\tau$\n",
    "\n",
    "$C_{\\delta}=C_{c}$\n",
    "\n",
    "$D_{\\delta}=D_{c}$\n",
    "\n",
    "$\\begin{array}{c}\n",
    "H_{\\delta}(\\delta)=C_{\\delta}(\\delta I-A_{\\delta})^{-1}B_{\\delta}+D_{\\delta}\\end{array}=\\frac{N\\left(\\delta\\right)}{D\\left(\\delta\\right)}$\n",
    "\n",
    "Where\n",
    "\n",
    "$N\\left(\\delta\\right)=\\beta_{\\delta0}+\\beta_{\\delta1}\\delta^{-1}+\\cdots+\\beta_{\\delta n-1}\\delta^{-\\left(n-1\\right)}+\\beta_{\\delta n}\\delta^{-n}\\\\=\\sum_{i=0}^{N}\\beta_{\\delta i}\\delta^{-i}$\n",
    "\n",
    "$D\\left(\\delta\\right)=1+\\alpha_{\\delta1}\\delta^{-1}+\\cdots+\\alpha_{\\delta n-1}\\delta^{-\\left(n-1\\right)}+\\alpha_{\\delta n}\\delta^{-n}\\\\=1+\\sum_{i=1}^{N}\\alpha_{\\delta i}\\delta^{-i}$\n",
    "\n",
    "[Digital Control and Estimation](https://dl.acm.org/doi/10.5555/574885)"
   ]
  },
  {
   "cell_type": "code",
   "execution_count": 5,
   "id": "67fccfe8",
   "metadata": {},
   "outputs": [
    {
     "name": "stdout",
     "output_type": "stream",
     "text": [
      "[[-1.07552054e+03 -8.74451015e+03 -1.13716863e+03 -9.18489055e+03]\n",
      " [ 8.19161017e+03 -3.17263682e+00 -4.12383224e-01 -3.33243951e+00]\n",
      " [ 1.48602997e+00  4.09599962e+03 -4.98588946e-05 -4.03019313e-04]\n",
      " [ 1.79717825e-04  7.43038514e-01  4.09600000e+03 -3.76019216e-08]]\n",
      "[[9.53628934e-07]\n",
      " [3.45993316e-10]\n",
      " [4.18438169e-14]\n",
      " [3.67427569e-18]]\n",
      "[[-1.12449178e+06  7.36025259e+07 -1.19071724e+06 -9.31322575e-09]]\n",
      "[[0.001]]\n"
     ]
    }
   ],
   "source": [
    "Ad = (linalg.expm(A*ts) - np.eye(A.shape[0])) / ts\n",
    "Bd = ((linalg.expm(A*ts) - np.eye(A.shape[0]) ) @ B) / ts\n",
    "Bd = np.linalg.inv(A) @ Bd\n",
    "Cd = C\n",
    "Dd = D\n",
    "\n",
    "print(Ad)\n",
    "print(Bd)\n",
    "print(Cd)\n",
    "print(Dd)"
   ]
  },
  {
   "cell_type": "markdown",
   "id": "889dd5fb",
   "metadata": {},
   "source": [
    "# Structural Transformation of Filter"
   ]
  },
  {
   "cell_type": "code",
   "execution_count": 6,
   "id": "95ed22f1",
   "metadata": {},
   "outputs": [
    {
     "data": {
      "image/png": "[encoded data removed]",
      "text/plain": [
       "<IPython.core.display.Image object>"
      ]
     },
     "execution_count": 6,
     "metadata": {},
     "output_type": "execute_result"
    }
   ],
   "source": [
    "Image(filename='./Figures/dfiit.png')"
   ]
  },
  {
   "cell_type": "markdown",
   "id": "89cf5db6",
   "metadata": {},
   "source": [
    "The structure of the $\\Sigma\\Delta$ stream computation is based on a generalized direct-form delta operator-based IIR filter ($\\delta$DFIIt). The $\\delta$DFIIt is not just limited to filters but can also be used for state space realization of control applications. \n",
    "\n",
    "[A generalized direct-form delta operator-based IIR filter with minimum noise gain and sensitivity](https://ieeexplore.ieee.org/document/933811)\n",
    "\n",
    "A similarity transform of the sampled time state space matrix is evaluated. This puts the $\\delta$DFIIt structure into the observable canonical form, $T_{0}$. $T_{1}$ is first calculated as below."
   ]
  },
  {
   "cell_type": "markdown",
   "id": "7d8e92f9",
   "metadata": {},
   "source": [
    "$T_{1}=\\left[\\begin{array}{c}\n",
    "C_{\\delta}\\\\\n",
    "C_{\\delta}A_{\\delta}\\\\\n",
    "\\vdots\\\\\n",
    "C_{\\delta}A_{\\delta}^{n-1}\n",
    "\\end{array}\\right]^{-1}\\left[\\begin{array}{c}\n",
    "0\\\\\n",
    "0\\\\\n",
    "\\vdots\\\\\n",
    "1\n",
    "\\end{array}\\right]$"
   ]
  },
  {
   "cell_type": "code",
   "execution_count": 7,
   "id": "66f1f69f",
   "metadata": {},
   "outputs": [],
   "source": [
    "e     = np.zeros((A.shape[1], 1))\n",
    "e[-1] = 1\n",
    "\n",
    "O = control.obsv(A, C)\n",
    "[U, S, Vh] = linalg.svd(O)\n",
    "V = Vh.T\n",
    "S = np.diag(S)\n",
    "\n",
    "S_inv = linalg.solve(S, np.eye(S.shape[0]))\n",
    "T_inv = V @ S_inv @ U.conj().T\n",
    "T1 = T_inv @ e;"
   ]
  },
  {
   "cell_type": "markdown",
   "id": "c28a0aab",
   "metadata": {},
   "source": [
    "The the observable canonical is now calculated\n",
    "\n",
    "$T_{0}=\\left[\\begin{array}{ccccc}\n",
    "A_{\\delta}^{n-1}T_{1} & A_{\\delta}^{n-2}T_{1} & \\ldots & A_{\\delta}T_{1} & T_{1}\\end{array}\\right]$"
   ]
  },
  {
   "cell_type": "code",
   "execution_count": 8,
   "id": "e60fe2ef",
   "metadata": {},
   "outputs": [],
   "source": [
    "n  = A.shape[1]\n",
    "T0 = np.zeros((n,n))\n",
    "\n",
    "for i in range(1, n+1):\n",
    "  column = np.linalg.matrix_power(A, n-i) @ T1\n",
    "  T0[:, i-1] = column[:,0]"
   ]
  },
  {
   "cell_type": "markdown",
   "id": "6e89c920",
   "metadata": {},
   "source": [
    "$T_{0}$ is now in the $\\delta$DFIIt form. This similarity transformation produces the state space representation below\n",
    "\n",
    "$\\tilde{A_{\\delta}}=T_{0}^{-1}A_{\\delta}T_{0}$\n",
    "\n",
    "$\\tilde{B_{\\delta}}=T_{0}^{-1}B_{\\delta}$\n",
    "\n",
    "$\\tilde{C_{\\delta}}=C_{\\delta}T_{0}$"
   ]
  },
  {
   "cell_type": "code",
   "execution_count": 9,
   "id": "50f8929f",
   "metadata": {},
   "outputs": [
    {
     "name": "stdout",
     "output_type": "stream",
     "text": [
      "[[-1.07239893e+03  1.00000000e+00  0.00000000e+00  0.00000000e+00]\n",
      " [-7.16367470e+07  0.00000000e+00  1.00000000e+00  0.00000000e+00]\n",
      " [-3.81029515e+10  0.00000000e+00  0.00000000e+00  1.00000000e+00]\n",
      " [-1.26242182e+15  0.00000000e+00  0.00000000e+00  0.00000000e+00]]\n",
      "[[-1.07239893e+00]\n",
      " [ 5.75019988e+05]\n",
      " [-3.82395575e+07]\n",
      " [ 9.08452912e+06]]\n",
      "[[ 1.00000000e+00  5.61489063e-20 -2.02184553e-20 -1.88183984e-16]]\n",
      "[[0.001]]\n"
     ]
    }
   ],
   "source": [
    "Ad_t = linalg.solve(T0, A @ T0)\n",
    "Ad_t[:-1,1:] = np.eye(n-1)\n",
    "Ad_t[-1,1:] = 0\n",
    "Bd_t = linalg.solve(T0, B)\n",
    "Cd_t = C @ T0;\n",
    "Dd_t = D;\n",
    "\n",
    "print(Ad_t)\n",
    "print(Bd_t)\n",
    "print(Cd_t)\n",
    "print(Dd_t)"
   ]
  },
  {
   "cell_type": "markdown",
   "id": "21a2b7a6",
   "metadata": {},
   "source": [
    "## $\\Sigma\\Delta$ Transfer Function\n",
    "\n",
    "The $\\Sigma\\Delta$ Transfer Function is used repeatedly in the following calculations. The *delta_bode()* function is used to convert from continuous state space representation to the discrete $\\delta$ based state space representation.\n",
    "\n",
    "$\\large \\delta I = ((e^{\\frac{-j\\omega}{\\Delta}} - 1) \\times \\frac{1}{\\Delta})\\times I$\n",
    "\n",
    "$H(\\delta)=\\tilde{C_{\\delta}}(\\delta I-\\tilde{A_{\\delta}})\\tilde{B_{\\delta}}+D_{\\delta}$"
   ]
  },
  {
   "cell_type": "code",
   "execution_count": 10,
   "id": "89714d22",
   "metadata": {},
   "outputs": [],
   "source": [
    "def delta_bode(A,B,C,D,f,ts):\n",
    "  q     = C.shape[0]\n",
    "  p     = B.shape[1]\n",
    "  fs    = 1/ts\n",
    "  mag   = np.zeros((q,p,f.shape[0]))\n",
    "  phz   = np.zeros((q,p,f.shape[0]))\n",
    "  delta = (np.exp(1j*2*np.pi*(f/fs))-1)/ts\n",
    "\n",
    "  for i in range(f.shape[0]):\n",
    "      A_d = delta[i] * np.eye(A.shape[0]) - A\n",
    "      \n",
    "      [A_d, T_d] = linalg.matrix_balance(A_d)\n",
    "      B_d = linalg.solve(T_d, B)\n",
    "      C_d = C @ T_d\n",
    "      \n",
    "      h   = linalg.solve(A_d, B_d)\n",
    "      h   = (C_d @ h) + D\n",
    "      mag[:,:,i] = np.abs(h)\n",
    "      phz[:,:,i] = 180*np.arctan2(np.imag(h),np.real(h))/np.pi\n",
    "  return mag, phz"
   ]
  },
  {
   "cell_type": "markdown",
   "id": "8b1fd22c",
   "metadata": {},
   "source": [
    "## Dynamic Range Scaling of State Variable Integrators\n",
    "\n",
    "The internal integrators must be scaled appropriately to maximize the SNR at each node. A scaling matrix $T_{s}$  scales the coefficients $k_{1}$ to $k_{N}$ located after the $\\delta^{-1}$ operators (integrators).\n",
    "\n",
    "$T_{s}=diag\\left[k_{1}^{-1},\\left(k_{1}k_{2}\\right)^{-1},\\ldots,\\left(k_{1}k_{2}\\ldots k_{n}\\right)^{-1}\\right]$\n",
    "\n",
    "The state space equations are then transformed\n",
    "\n",
    "$\\tilde{A_{\\delta}^{'}}=T_{s}^{-1}T_{0}^{-1}A_{\\delta}T_{0}T_{s}$\n",
    "\n",
    "$\\tilde{B_{\\delta}^{'}}=T_{s}^{-1}T_{0}^{-1}B_{\\delta}$\n",
    "\n",
    "$\\tilde{C_{\\delta}^{'}}=C_{\\delta}T_{0}T_{s}$\n",
    "\n",
    "$H(\\delta)=\\tilde{C_{\\delta}^{'}}(\\delta I-\\tilde{A_{\\delta}^{'}})\\tilde{B_{\\delta}^{'}}+D_{\\delta}$\n",
    "\n",
    "Transfer functions from the input to the ith state integrator\n",
    "\n",
    "$f_{i}\\left(\\delta\\right)=\\frac{x_{i}\\left(\\delta\\right)}{u\\left(\\delta\\right)}$ = $T_{s}^{-1}T_{0}^{-1}\\left(\\delta I-A_{\\delta}\\right)^{-1}B_{\\delta}$"
   ]
  },
  {
   "cell_type": "code",
   "execution_count": 11,
   "id": "68a2e9f2",
   "metadata": {},
   "outputs": [],
   "source": [
    "f = np.logspace(0,np.log10(fb),2**10)\n",
    "T0_inv = linalg.solve(T0, np.eye(T0.shape[0]))\n",
    "[f_i, phz] = sdf.delta_bode(Ad,Bd,T0_inv,0,f,ts)"
   ]
  },
  {
   "cell_type": "markdown",
   "id": "b66f5193",
   "metadata": {},
   "source": [
    "The internal gain of the filter structure is calculated with the $\\infty$-norm for discrete $\\delta$ based filters to normalize each integrator node. The scaling coefficients in $T_{s}$ are then be found using back substitution.\n",
    "\n",
    "$\\left\\Vert H(\\frac{e^{j\\omega}-1}{\\Delta})\\right\\Vert _{p}=\\left[\\frac{1}{2\\pi}\\intop_{-\\pi}^{\\pi}|H\\left(\\frac{e^{j\\omega}-1}{\\Delta}\\right)|^{p}d\\omega\\right]^{1/p}$\n",
    "\n",
    "$||f(\\delta)||_{\\infty}\t=T_{s}^{-1}||T_{0}^{-1}\\left(\\delta I-A_{\\delta}\\right)^{-1}B_{\\delta}||_{\\infty}\n",
    "\t=\\left[\\begin{array}{ccc}\n",
    "1 & \\cdots & 1\\end{array}\\right]^{T}$"
   ]
  },
  {
   "cell_type": "code",
   "execution_count": 12,
   "id": "3d18407f",
   "metadata": {},
   "outputs": [],
   "source": [
    "f_norm = np.zeros(Ad.shape[0])\n",
    "\n",
    "for i in range(f_norm.shape[0]):\n",
    "  f_norm[i] = linalg.norm(f_i[i], np.inf, axis=1)\n",
    "\n",
    "Ts = np.zeros(Ad.shape)\n",
    "k = np.zeros(f_norm.shape[0])\n",
    "k_inv = np.zeros(f_norm.shape[0])\n",
    "\n",
    "for i in range(f_norm.shape[0]):\n",
    "  if i == 0:\n",
    "    k[i] = 1/f_norm[i]\n",
    "  else:\n",
    "    k[i] = 1/(np.prod(k[:i])*f_norm[i])\n",
    "\n",
    "  k_inv[i] = 2**np.floor(np.log2(ts/k[i]))/ts\n",
    "  Ts[i,i] = np.prod(k_inv[0:i+1])"
   ]
  },
  {
   "cell_type": "markdown",
   "id": "8f7dd167",
   "metadata": {},
   "source": [
    "$\\Sigma\\Delta$ stream computation modifies the $\\delta$DFIIt form by implementing the scaling coefficients as bit shift rather than multiplication. Adjusting the scaling coefficients to be a power of two multiply/divide reduces the filter architecture complexity.\n",
    "\n",
    "$\\tilde{k}_{i}=\\frac{2^{\\left\\lfloor log_{2}\\Delta\\cdot k_{i}^{-1}\\right\\rfloor }}{\\Delta}$"
   ]
  },
  {
   "cell_type": "code",
   "execution_count": 13,
   "id": "de5299c0",
   "metadata": {},
   "outputs": [
    {
     "name": "stdout",
     "output_type": "stream",
     "text": [
      "[ 1.00000000e-03  3.37894812e-13  1.74327689e+02 -1.11932309e-12\n",
      "  1.11995359e+01]\n",
      "[1.00000000e+00 1.59366749e+03 1.93120597e+04 1.86338568e+03\n",
      " 1.11995359e+04]\n"
     ]
    }
   ],
   "source": [
    "k_inv = np.diag(k_inv)\n",
    "[num_t, den_t] = signal.ss2tf(Ad_t,Bd_t,Cd_t,Dd_t)\n",
    "num_ts = num_t.copy()\n",
    "num_ts[0,1:] /= np.diag(Ts).T\n",
    "den_ts = den_t.copy()\n",
    "den_ts[1:] /= np.diag(Ts).T\n",
    "den_ts[0] = 1\n",
    "\n",
    "beta  = num_ts[0]\n",
    "alpha = den_ts\n",
    "\n",
    "print(beta)\n",
    "print(alpha)"
   ]
  },
  {
   "cell_type": "code",
   "execution_count": 14,
   "id": "d2ae973e",
   "metadata": {},
   "outputs": [
    {
     "name": "stdout",
     "output_type": "stream",
     "text": [
      "Stored 'the_delta_filter' (list)\n"
     ]
    }
   ],
   "source": [
    "the_delta_filter = [Ad,Bd,Cd,Dd,k,k_inv,T0,Ts,f,ts,alpha,beta]\n",
    "%store the_delta_filter"
   ]
  },
  {
   "cell_type": "markdown",
   "id": "4228661d",
   "metadata": {},
   "source": [
    "Goto the next step - [Coefficient Sensitivity Analysis](./3_SD_dIIR_sensitivity.ipynb)"
   ]
  }
 ],
 "metadata": {
  "kernelspec": {
   "display_name": "Python 3 (ipykernel)",
   "language": "python",
   "name": "python3"
  },
  "language_info": {
   "codemirror_mode": {
    "name": "ipython",
    "version": 3
   },
   "file_extension": ".py",
   "mimetype": "text/x-python",
   "name": "python",
   "nbconvert_exporter": "python",
   "pygments_lexer": "ipython3",
   "version": "3.9.12"
  }
 },
 "nbformat": 4,
 "nbformat_minor": 5
}
