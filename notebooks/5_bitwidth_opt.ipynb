{
 "cells": [
  {
   "cell_type": "markdown",
   "id": "3e33cd9b",
   "metadata": {},
   "source": [
    "# Filter Bitwidth Optimization\n",
    "## Mathematical Background\n",
    "\n",
    "The filter coefficients and signal paths of the filter must be quantized. The optimization routine that maximizes the quantization levels so that minimum number of fractional bits are required to represent the coefficients and state register values uses the following optimization strategy seeks to minimize internal bitwidths of the filter architecture by maximizing the quantization levels:\n",
    "\n",
    "$maximize\\; c^{T}\\Delta_{q} \\left(objective\\;function\\right)$\n",
    "\n",
    "$\\sqrt{H_{k}}\\Delta_{q} \\le\\sqrt{\\gamma_{noise}-\\sigma_{nom_{1}}^{2}-\\sigma_{nom_{2}}^{2}} \\left(quantization\\;noise\\;bound\\right)$\n",
    "\n",
    "$\\left|S^{\\tilde{H}_{\\Sigma\\Delta}^{'}(f_{d})}\\left(f_{d}\\right)\\right|\\Delta_{q} \\preceq\\rho\\left(f_{d}\\right) \\left(sensitivity\\;bound\\right)$\n",
    "\n",
    "$\\sqrt{12\\cdot f_{B}\\cdot\\sigma_{x\\Sigma\\Delta}^{2}}\\mathtt{\\preceq}\\Delta_{q} \\preceq1 \\left(\\Delta_{q}\\;range\\;bound\\right)$\n",
    "\n",
    "where $c=\\left[\\begin{array}{cccc}1 1 \\cdots 1\\end{array}\\right]$. The objective function of the optimization routine relies on the quantization noise and sensitivity bounds of the filter as well as the value limit imposed by the representation noise floor created by the input and output $\\Sigma\\Delta$ modulators. There are two performance bounds chosen by the designer in this model:\n",
    "\n",
    "1. The noise bound $\\gamma_{noise}\\in\\mathbb{R}_{\\ge0}$ which sets the upper bound on the resolution of the filter over the specified signal band.\n",
    "\n",
    "2. The magnitude sensitivity bound $\\rho\\left(f\\right)\\in\\mathbb{R}^{n}$ which sets an upper bound on the magnitude variation of the filter across the specified signal band.\n",
    "\n",
    "Steps taken to construct this optimization routine require first that the frequency band of interest (typically from DC to $f_{B}$) be discretized so that a convex optimization solver can solve the problem over a discrete set of points. Creating a discretized vector of frequencies $f_{D}$ will be in the form\n",
    "\n",
    "$f_{D}=\\left[\\begin{array}{cccc}f_{0} f_{1} \\cdots f_{M}\\end{array}\\right]$\n",
    "\n",
    "where $M$ is the number of samples.\n",
    "\n",
    "Next, $f_{D}$ must be used to create the sensitivity matrix $\\left|S^{\\tilde{H}_{\\Sigma\\Delta}^{'}(f_{d})}\\left(f_{D}\\right)\\right|$ for use in the sensitivity bound of the filter. The resulting matrix will be of the form\n",
    "\n",
    "$\\left|S^{\\tilde{H}_{\\Sigma\\Delta}^{'}(f_{d})}\\left(f\\right)\\right|=\\left[\\begin{array}{cccc}\n",
    "\\left|S_{01}^{\\tilde{H}_{\\Sigma\\Delta}^{'}}\\left(f_{0}\\right)\\right| &\\left|S_{02}^{\\tilde{H}_{\\Sigma\\Delta}^{'}}\\left(f_{1}\\right)\\right| &\\cdots &\\left|S_{0K}^{\\tilde{H}_{\\Sigma\\Delta}^{'}}\\left(f_{M}\\right)\\right|\\\\\n",
    "\\left|S_{11}^{\\tilde{H}_{\\Sigma\\Delta}^{'}}\\left(f_{0}\\right)\\right| &\\left|S_{12}^{\\tilde{H}_{\\Sigma\\Delta}^{'}}\\left(f_{1}\\right)\\right| &\\cdots &\\left|S_{1K}^{\\tilde{H}_{\\Sigma\\Delta}^{'}}\\left(f_{M}\\right)\\right|\\\\\n",
    "\\left|S_{21}^{\\tilde{H}_{\\Sigma\\Delta}^{'}}\\left(f_{0}\\right)\\right| &\\left|S_{22}^{\\tilde{H}_{\\Sigma\\Delta}^{'}}\\left(f_{1}\\right)\\right| &\\cdots &\\left|S_{2K}^{\\tilde{H}_{\\Sigma\\Delta}^{'}}\\left(f_{M}\\right)\\right|\\\\\n",
    "\\vdots &\\ddots &\\ddots &\\vdots\\\\\n",
    "\\left|S_{N1}\\left(f_{0}\\right)\\right| &\\left|S_{N2}\\left(f_{1}\\right)\\right| &\\cdots &\\left|S_{NK}\\left(f_{M}\\right)\\right|\n",
    "\\end{array}\\right]$\n",
    "\n",
    "\n",
    "Now the performance bounds must be chosen by a designer. For the transfer function sensitivity, $\\rho\\left(f_{D}\\right)$ must be chosen to put an upper bound on the transfer function variation that the filter design would tolerate. The bound vector will be in the vector form of\n",
    "\n",
    "$\\rho\\left(f_{D}\\right)=\\left[\\begin{array}{cccc}\n",
    "\\rho\\left(f_{0}\\right) &\\rho\\left(f_{1}\\right) &\\cdots &\\rho\\left(f_{M}\\right)\\end{array}\\right]$\n",
    "\n",
    "The last performance bound to chose in the output noise bound of the filter $\\gamma_{noise}$. The noise bound puts an upper bound on the maximum tolerable noise level on the output of the filter over the frequency range $f_{D}$. For a required output ENOB of 14 for instance, the bound should be chosen in absolute terms to be $\\gamma_{noise}=1e-8$.\n",
    "\n",
    "[$\\Sigma\\Delta$ Stream Computation](https://escholarship.org/uc/item/4f46n0h6)"
   ]
  },
  {
   "cell_type": "markdown",
   "id": "1fbbca59",
   "metadata": {},
   "source": [
    "## Choosing Filter Bitwidths"
   ]
  },
  {
   "cell_type": "code",
   "execution_count": 1,
   "id": "87f7c915",
   "metadata": {},
   "outputs": [
    {
     "data": {
      "image/png": "[encoded data removed]",
      "text/plain": [
       "<IPython.core.display.Image object>"
      ]
     },
     "execution_count": 1,
     "metadata": {},
     "output_type": "execute_result"
    }
   ],
   "source": [
    "from IPython.display import Image\n",
    "Image(filename='./Figures/filter_node_bitwidths.png')"
   ]
  },
  {
   "cell_type": "markdown",
   "id": "4152a2c4",
   "metadata": {},
   "source": [
    "When it comes to assigning bitwidths to the interior signal paths of the $\\Sigma\\Delta$ filter architecture, there are two considerations that must be made: the bitwidths of the coefficients and the bitwidths of the state registers. Since the numerical representation of these values will be in two's compliment form, each value will consist of a bitwidth $B_{w}\\in\\mathbb{Z}^{+}$ given by\n",
    "\n",
    "$B=I+F+1$\n",
    "\n",
    "where $I\\in\\mathbb{Z^{+}}$ are the integer bits, $F\\in\\mathbb{Z^{+}}$ are the fractional bits, and a one for the sign bit. For the number of integer bits I that should be assigned to the coefficients at the ith node is\n",
    "\n",
    "$I_{i}=\\left\\lceil max\\left(log_{2}\\left(\\beta_{\\delta i}\\right),log2\\left(\\alpha_{\\delta i}\\right)\\right)\\right\\rceil$\n",
    "\n",
    "where $\\left\\lceil \\cdot\\right\\rceil$  is the ceiling operator. The number for fractional bits F at the ith node can be determined by\n",
    "\n",
    "$F_{i}=\\begin{cases}\\left\\lceil \\left|log2\\left(\\Delta_{qi}\\right)\\right|\\right\\rceil , & \\Delta_{qi}<1\\\\\n",
    "0, & otherwise \\end{cases}$\n",
    "\n",
    "In regards to setting the register bitwidths, notice again that the $\\alpha$, $\\beta$, and previous scaled state variable all share the same summation node. It is appropriate then to set the number of fractional bits of the proceeding integrator register to $F_{i}$. The number of integer bits $I_{xi}$ of the state register can be found by\n",
    "\n",
    "$I_{xi}=\\left\\lceil \\left|log2\\left(\\Delta\\right)\\right|\\right\\rceil$\n",
    "\n",
    "leaving the total bitwidth of the ith register\n",
    "\n",
    "$B_{xi}=I_{xi}+F_{i}+1$\n",
    "\n",
    "[$\\Sigma\\Delta$ Stream Computation](https://escholarship.org/uc/item/4f46n0h6)"
   ]
  },
  {
   "cell_type": "code",
   "execution_count": 2,
   "id": "7ae0f145",
   "metadata": {},
   "outputs": [],
   "source": [
    "# %load ./header.py\n",
    "import numpy as np\n",
    "from scipy import signal\n",
    "from scipy import linalg\n",
    "import control\n",
    "import matplotlib.pyplot as plt\n",
    "\n",
    "import sys\n",
    "\n",
    "if '../sdfpy' not in sys.path:\n",
    "  sys.path.insert(0,'../sdfpy')\n",
    "\n",
    "import sd_sim\n",
    "import sdfpy as sdf\n",
    "\n",
    "OSR = 256      # oversample ratio\n",
    "fb = 22050     # nyquist\n",
    "fs = OSR*2*fb  # sampling frequency\n",
    "ts = 1/fs      # sampling period\n"
   ]
  },
  {
   "cell_type": "code",
   "execution_count": 3,
   "id": "ba635ae4",
   "metadata": {},
   "outputs": [],
   "source": [
    "%store -r\n",
    "[Ad,Bd,Cd,Dd,k,k_inv,T0,Ts,f,ts,alpha,beta] = the_delta_filter\n",
    "[sig_2_nom, sig_2_x_sd, H] = the_noise\n",
    "[S_mag, S_phz] = the_sensitivity\n",
    "# [sig_nom, sig_2_x_sd, h1] = the_noise"
   ]
  },
  {
   "cell_type": "code",
   "execution_count": 4,
   "id": "5a0fcc92",
   "metadata": {},
   "outputs": [],
   "source": [
    "SNR = 90\n",
    "sig_noise = 10**(-(SNR/10))\n",
    "p = .1*np.ones((1,S_mag.shape[1]))\n",
    "s = np.sqrt(np.trapz(sig_2_x_sd)*(12*OSR));\n",
    "S_mag = np.squeeze(S_mag)"
   ]
  },
  {
   "cell_type": "code",
   "execution_count": 5,
   "id": "71758319",
   "metadata": {},
   "outputs": [
    {
     "data": {
      "text/plain": [
       "8.769171296775074"
      ]
     },
     "execution_count": 5,
     "metadata": {},
     "output_type": "execute_result"
    }
   ],
   "source": [
    "import cvxpy as cp\n",
    "n = S_mag.shape[0]\n",
    "u = np.ones((n,1))\n",
    "l = np.zeros((n,1))\n",
    "f = np.ones(n)\n",
    "f[0] = 3\n",
    "s = np.append(s, 0).reshape(s.shape[0] + 1, 1)\n",
    "\n",
    "# Define and solve the CVXPY problem.\n",
    "q = cp.Variable((n,1))\n",
    "prob = cp.Problem( cp.Maximize(f @ q),\n",
    "                   [ cp.quad_form(q,H) <= sig_noise\n",
    "                   , S_mag.T @ q <= p.T\n",
    "                   , q >= s\n",
    "                   ]\n",
    "                 )\n",
    "prob.solve()"
   ]
  },
  {
   "cell_type": "code",
   "execution_count": 6,
   "id": "06195931",
   "metadata": {},
   "outputs": [],
   "source": [
    "qs = np.log2(q.value)\n",
    "qs[qs>0] = 0\n",
    "qs = np.ceil(np.abs(qs)).T\n",
    "bi = np.ceil(np.log2(np.maximum(np.abs(alpha),np.abs(beta)))) + 1\n",
    "bw = bi + qs + 1\n",
    "b_frac = qs"
   ]
  },
  {
   "cell_type": "code",
   "execution_count": 7,
   "id": "d8c2f8dd",
   "metadata": {},
   "outputs": [
    {
     "name": "stdout",
     "output_type": "stream",
     "text": [
      "q = \n",
      " [[-21.07850884  -7.20319832  -7.89947475  -7.51142473   3.12973059]]\n",
      "Coefficient bitwidths = \n",
      " [[24. 21. 25. 21. 16.]]\n"
     ]
    }
   ],
   "source": [
    "# % Simulink Model Bitwidth Parameters\n",
    "shift = np.round(np.abs(np.log2(ts*k)))\n",
    "bw_accum = 1 + np.ceil(np.abs(np.log2(ts))) + b_frac\n",
    "print('q = \\n', np.log2(q.value.T))\n",
    "print('Coefficient bitwidths = \\n', bw)"
   ]
  },
  {
   "cell_type": "code",
   "execution_count": 8,
   "id": "df700be3",
   "metadata": {},
   "outputs": [
    {
     "name": "stdout",
     "output_type": "stream",
     "text": [
      "accum[ 0 ] | 47.0 22.0\n",
      "alpha[ 0 ] | 24.0 22.0\n",
      "beta [ 0 ] | 24.0 22.0\n",
      "k_ts [ 0 ] | 24.0 23.0\n",
      "----------------------------------------\n",
      "accum[ 1 ] | 33.0 8.0\n",
      "alpha[ 1 ] | 21.0 8.0\n",
      "beta [ 1 ] | 21.0 8.0\n",
      "k_ts [ 1 ] | 37.0 36.0\n",
      "----------------------------------------\n",
      "accum[ 2 ] | 33.0 8.0\n",
      "alpha[ 2 ] | 25.0 8.0\n",
      "beta [ 2 ] | 25.0 8.0\n",
      "k_ts [ 2 ] | 37.0 36.0\n",
      "----------------------------------------\n",
      "accum[ 3 ] | 33.0 8.0\n",
      "alpha[ 3 ] | 21.0 8.0\n",
      "beta [ 3 ] | 21.0 8.0\n",
      "k_ts [ 3 ] | 37.0 36.0\n",
      "----------------------------------------\n",
      "accum[ 4 ] | 25.0 0.0\n",
      "alpha[ 4 ] | 16.0 0.0\n",
      "beta [ 4 ] | 16.0 0.0\n",
      "k_ts [ 4 ] | 2.0 1.0\n",
      "----------------------------------------\n"
     ]
    }
   ],
   "source": [
    "k_ts = k * ts\n",
    "k_ts = np.append(k_ts, 0)\n",
    "shift = np.append(shift, 1)\n",
    "\n",
    "for idx, val in enumerate(alpha):\n",
    "  print('accum[', idx, '] |' , bw_accum[0,idx] , b_frac[0,idx])\n",
    "  print('alpha[', idx, '] |' , bw[0,idx]       , qs[0,idx]    )\n",
    "  print('beta [', idx, '] |' , bw[0,idx]       , qs[0,idx]    )\n",
    "  print('k_ts [', idx, '] |' , shift[idx] + 1  , shift[idx]   )\n",
    "  print('-' * 40)"
   ]
  }
 ],
 "metadata": {
  "kernelspec": {
   "display_name": "Python 3 (ipykernel)",
   "language": "python",
   "name": "python3"
  },
  "language_info": {
   "codemirror_mode": {
    "name": "ipython",
    "version": 3
   },
   "file_extension": ".py",
   "mimetype": "text/x-python",
   "name": "python",
   "nbconvert_exporter": "python",
   "pygments_lexer": "ipython3",
   "version": "3.9.12"
  }
 },
 "nbformat": 4,
 "nbformat_minor": 5
}
