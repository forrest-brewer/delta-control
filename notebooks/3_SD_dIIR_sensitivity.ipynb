{
 "cells": [
  {
   "cell_type": "markdown",
   "id": "07614fbf",
   "metadata": {},
   "source": [
    "# Coefficient Sensitivity Analysis"
   ]
  },
  {
   "cell_type": "markdown",
   "id": "8f3bf615",
   "metadata": {},
   "source": [
    "## Mathematical Background\n",
    "The next step is to quantize the filter coefficients. The coefficients will be represented as two's compliment with an integer width of $b_{i}$ and fractional width of $b_{f}$; $b_{w}=b_{i}+b_{f}+1$. This creates errors in the transfer function response. The analysis bounds the errors into an an acceptable range. Each of the coefficients are individually evaluated for the resultant error with the small deviations caused by quantization.\n",
    "\n",
    "Below is the sensitivity of a transfer function $G(\\delta)$ with respect to a parameter $m$\n",
    "\n",
    "Using the sensitivity measure $S_{m}^{G(\\delta)}\\left(\\delta\\right)$, an estimate for the transfer function response deviation $\\epsilon_{m}\\left(\\delta\\right)$ with respect to a parameter deviation $\\delta_{m}$ takes the form of $\\epsilon_{m}\\left(\\delta\\right)=\\delta_{m}S_{m}^{G(\\delta)}\\left(\\delta\\right)$.\n",
    "\n",
    "Applying the previously defined sensitivity measure to the feedback and feedforward coefficients $\\tilde{\\alpha}$ and $\\tilde{\\beta}$, the sensitivity functions with respect to the ith element of $\\tilde{\\alpha}$ and $\\tilde{\\beta}$ coefficients can be written as\n",
    "\n",
    "$S_{\\alpha_{i}}^{\\tilde{H}_{\\Sigma\\Delta}^{'}(\\delta)}(\\delta)=\\frac{\\partial\\tilde{H}_{\\Sigma\\Delta}^{'}(\\delta)}{\\partial\\alpha_{i}}$\n",
    "\n",
    "$=\\tilde{H}_{\\Sigma\\Delta}^{'}(\\delta)\\cdot\\left[T_{s}^{T}T_{0}^{T}\\left(\\delta I-A_{\\delta}^{T}\\right)^{-1}C_{\\delta}^{T}\\right]$\n",
    "\n",
    "$S_{\\beta_{i}}^{\\tilde{H}_{\\Sigma\\Delta}^{'}(\\delta)}(\\delta)=\\frac{\\partial\\tilde{H}_{\\Sigma\\Delta}^{'}(\\delta)}{\\partial\\beta_{i}}$\n",
    "\n",
    "$=T_{s}^{T}T_{0}^{T}\\left(\\delta I-A_{\\delta}^{T}\\right)^{-1}C_{\\delta}^{T}$\n",
    "\n",
    "$S_{\\beta_{0}}^{\\tilde{H}_{\\Sigma\\Delta}^{'}(\\delta)}(\\delta)=\\frac{\\partial\\tilde{H}_{\\Sigma\\Delta}^{'}(\\delta)}{\\partial\\beta_{0}}$\n",
    "\n",
    "$=C_{\\delta}\\left(\\delta I-A_{\\delta}\\right)^{-1}A_{\\delta}T_{0}\\left[\\begin{array}{cccc}\n",
    "1 & 0 & \\cdots & 0\\end{array}\\right]^{T}+1$\n",
    "\n",
    "The $\\alpha_{i}$ and $\\beta_{i}$ coefficient multiplexers connect to the same summation node and can be quantized to the same level. By combing the coefficient sensitivities at each node, a new sensitivity matrix can be formed.\n",
    "\n",
    "$S^{\\tilde{H}_{\\Sigma\\Delta}^{'}(\\delta)}\\left(\\delta\\right)=\\left[\\begin{array}{c}\n",
    "S_{\\beta_{0}}^{\\tilde{H}_{\\Sigma\\Delta}^{'}(\\delta)}(\\delta)\\\\\n",
    "S_{\\beta_{1}}^{\\tilde{H}_{\\Sigma\\Delta}^{'}(\\delta)}(\\delta)+S_{\\alpha_{1}}^{\\tilde{H}_{\\Sigma\\Delta}^{'}(\\delta)}(\\delta)\\\\\n",
    "S_{\\beta_{2}}^{\\tilde{H}_{\\Sigma\\Delta}^{'}(\\delta)}(\\delta)+S_{\\alpha_{2}}^{\\tilde{H}_{\\Sigma\\Delta}^{'}(\\delta)}(\\delta)\\\\\n",
    "\\vdots\\\\\n",
    "S_{\\beta_{N}}^{\\tilde{H}_{\\Sigma\\Delta}^{'}(\\delta)}(\\delta)+S_{\\alpha_{N}}^{\\tilde{H}_{\\Sigma\\Delta}^{'}(\\delta)}(\\delta)\n",
    "\\end{array}\\right]^{T}$\n",
    "\n",
    "The overall magnitude of the transfer function sensitivity can be found with the variation of the ideal transfer function magnitude, $\\Delta\\left|\\tilde{H}_{\\Sigma\\Delta}^{'}(e^{j\\omega})\\right|$, with respect to $\\Delta_{qi}$ changes in the ith numerator and denominator coefficients. \n",
    "\n",
    "$\\left|S_{i}^{\\tilde{H}_{\\Sigma\\Delta}^{'}(\\delta)}\\left(e^{j\\omega}\\right)\\right|=\\left|S_{\\beta_{i}}^{\\left|\\tilde{H}_{\\Sigma\\Delta}^{'}(e^{j\\omega})\\right|}(e^{j\\omega})+S_{\\alpha_{i}}^{\\left|\\tilde{H}_{\\Sigma\\Delta}^{'}(e^{j\\omega})\\right|}(e^{j\\omega})\\right|$\n",
    "\n",
    "$\\leq\\left|S_{\\beta_{i}}^{\\tilde{H}_{\\Sigma\\Delta}^{'}(e^{j\\omega})}(e^{j\\omega})+S_{\\alpha_{i}}^{\\tilde{H}_{\\Sigma\\Delta}^{'}(e^{j\\omega})}(e^{j\\omega})\\right|$\n",
    "\n",
    "The right hand side of the above inequality can be used as a conservative estimate for $\\left|S_{i}^{\\tilde{H}_{\\Sigma\\Delta}^{'}(\\delta)}\\left(e^{j\\omega}\\right)\\right|$. An approximation to the transfer function variation can then be computed by\n",
    "\n",
    "$\\Delta\\left|\\tilde{H}_{\\Sigma\\Delta}^{'}\\left(\\delta\\right)\\right|\\le\\left|S^{\\tilde{H}_{\\Sigma\\Delta}^{'}(\\delta)}\\left(\\delta\\right)\\right|\\Delta_{q}$\n",
    "\n",
    "where $\\Delta_{q}=\\left[\\begin{array}{cccc}\\Delta_{q_{0}} \\Delta_{q_{1}} \\cdots \\Delta_{q_{N}}\\end{array}\\right]^{T}$ is a vector quantization levels at each filter node. The transfer function magnitude variation, $\\Delta\\left|\\tilde{H}_{\\Sigma\\Delta}^{'}\\left(\\delta\\right)\\right|$, due to coefficient quantization will later be used as a performance metric for choosing the appropriate quantization levels of the filter nodes with the overall $\\Sigma\\Delta$ filter architecture.\n",
    "\n",
    "[$\\Sigma\\Delta$ Stream Computation](https://escholarship.org/uc/item/4f46n0h6)"
   ]
  },
  {
   "cell_type": "code",
   "execution_count": 1,
   "id": "67299e45",
   "metadata": {},
   "outputs": [],
   "source": [
    "# %load ./header.py\n",
    "import numpy as np\n",
    "from scipy import signal\n",
    "from scipy import linalg\n",
    "import control\n",
    "import matplotlib.pyplot as plt\n",
    "from IPython.display import Image\n",
    "\n",
    "import sys\n",
    "\n",
    "if '../sdfpy' not in sys.path:\n",
    "  sys.path.insert(0,'../sdfpy')\n",
    "\n",
    "import sd_sim\n",
    "import sdfpy as sdf\n",
    "\n",
    "OSR = 256      # oversample ratio\n",
    "fb = 22050     # nyquist\n",
    "fs = OSR*2*fb  # sampling frequency\n",
    "ts = 1/fs      # sampling period\n"
   ]
  },
  {
   "cell_type": "code",
   "execution_count": 2,
   "id": "30dbadc5",
   "metadata": {},
   "outputs": [],
   "source": [
    "%store -r\n",
    "[Ad,Bd,Cd,Dd,k,k_inv,T0,Ts,f,ts,alpha,beta] = the_delta_filter"
   ]
  },
  {
   "cell_type": "markdown",
   "id": "152fdc70",
   "metadata": {},
   "source": [
    "## Interconnecting State Space Models \n",
    "Below shows how the control.series() function connects two state space models in series\n",
    "\n",
    "$\\left[\\begin{matrix}\\left[\\begin{matrix}A_{1} & 0\\\\B_{2} C_{1} & A_{2}\\end{matrix}\\right] & \\left[\\begin{matrix}B_{1}\\\\B_{2} D_{1}\\end{matrix}\\right]\\\\\\left[\\begin{matrix}D_{2} C_{1} & C_{2}\\end{matrix}\\right] & \\left[\\begin{matrix}D_{2} D_{1}\\end{matrix}\\right]\\end{matrix}\\right]$\n",
    "\n",
    "The block matrix below demonstrates how to merge the outputs of  two state space models\n",
    "\n",
    "$\\left[\\begin{matrix}\\left[\\begin{matrix}A_{1} & 0\\\\0 & A_{2}\\end{matrix}\\right] & \\left[\\begin{matrix}B_{1}\\\\B_{2}\\end{matrix}\\right]\\\\\\left[\\begin{matrix}C_{1} & 0\\\\0 & C_{2}\\end{matrix}\\right] & \\left[\\begin{matrix}D_{1}\\\\D_{2}\\end{matrix}\\right]\\end{matrix}\\right]$\n",
    "\n",
    "\n",
    "[Combining and Connecting Linear, Multi-Input, Multi-Output Subsystem Models](https://www.nasa.gov/centers/dryden/pdf/88038main_H-1264.pdf)"
   ]
  },
  {
   "cell_type": "code",
   "execution_count": 3,
   "id": "2b1afee6",
   "metadata": {},
   "outputs": [],
   "source": [
    "def ss_concat_outputs(sys_0, sys_1):\n",
    "  A = linalg.block_diag(sys_0.A, sys_1.A)\n",
    "  B = np.vstack(       (sys_0.B, sys_1.B))\n",
    "  C = linalg.block_diag(sys_0.C, sys_1.C)\n",
    "  D = np.vstack(       (sys_0.D, sys_1.D))\n",
    "  return control.ss(A,B,C,D)"
   ]
  },
  {
   "cell_type": "markdown",
   "id": "816f7132",
   "metadata": {},
   "source": [
    "## Implementation\n",
    "\n",
    "$\\Delta\\left|\\tilde{H}_{\\Sigma\\Delta}^{'}\\left(\\delta\\right)\\right|$ can be implemented as a network of state space models as shown below"
   ]
  },
  {
   "cell_type": "code",
   "execution_count": 4,
   "id": "82ac4d3f",
   "metadata": {},
   "outputs": [
    {
     "data": {
      "image/png": "[encoded data removed]",
      "text/plain": [
       "<IPython.core.display.Image object>"
      ]
     },
     "execution_count": 4,
     "metadata": {},
     "output_type": "execute_result"
    }
   ],
   "source": [
    "Image(filename='./Figures/SD_dIIR_Sensitivity.png')"
   ]
  },
  {
   "cell_type": "code",
   "execution_count": 5,
   "id": "a40f07b4",
   "metadata": {},
   "outputs": [],
   "source": [
    "# %Sensitivity due to feedthrough coefficient\n",
    "B_beta = np.zeros((1, Ad.shape[1])).T\n",
    "B_beta[0][0] = 1\n",
    "B_beta = Ad @ T0 @ B_beta\n",
    "S_beta0 = control.ss(Ad,B_beta,Cd,1)\n",
    "\n",
    "# %Sensitivity due to numerator coefficients\n",
    "S_beta = control.ss(Ad.T,Cd.T,Ts.T @ T0.T,0)\n",
    "\n",
    "# %Sensitivity due to denominator coefficients\n",
    "H = control.ss(Ad,Bd,Cd,Dd)\n",
    "S_alpha = control.series(H, S_beta)\n",
    "S_bsys = sdf.ss_concat_outputs(S_beta0, S_beta)\n",
    "null_sys = control.ss(0, 0, 0, 0)\n",
    "S_asys = sdf.ss_concat_outputs(null_sys, S_alpha)\n",
    "\n",
    "[S_bmag,S_bphz] = sdf.delta_bode(S_bsys.A,S_bsys.B,S_bsys.C,S_bsys.D,f,ts)\n",
    "[S_amag,S_aphz] = sdf.delta_bode(S_asys.A,S_asys.B,S_asys.C,S_asys.D,f,ts)\n",
    "S_mag = np.squeeze(S_bmag + S_amag)\n",
    "S_phz = np.squeeze(S_bphz + S_aphz)"
   ]
  },
  {
   "cell_type": "code",
   "execution_count": 6,
   "id": "e11cf842",
   "metadata": {
    "scrolled": true
   },
   "outputs": [
    {
     "data": {
      "image/png": "[encoded data removed]",
      "text/plain": [
       "<Figure size 432x288 with 5 Axes>"
      ]
     },
     "metadata": {
      "needs_background": "light"
     },
     "output_type": "display_data"
    }
   ],
   "source": [
    "fig, axs = plt.subplots(S_mag.shape[0], 1)\n",
    "\n",
    "for i in range(S_mag.shape[0]):\n",
    "  axs[i].plot(f, S_mag[i])\n",
    "  axs[i].set_ylabel(r'$\\left|S_{{{:2d}}}^{{\\tilde{{H}}_{{\\Sigma\\Delta}}(\\delta)}}\\left(\\right)\\right|$'.format(i+1))\n",
    "  axs[i].grid(True)\n",
    "\n",
    "axs[0].set_title(r'$\\left|S_{i}^{\\tilde{H}_{\\Sigma\\Delta}^{\\prime}(\\delta)}\\left(e^{j\\omega}\\right)\\right|$')\n",
    "axs[S_mag.shape[0]-1].set_xlabel('Frequency')\n",
    "fig.tight_layout()\n",
    "plt.show()"
   ]
  },
  {
   "cell_type": "code",
   "execution_count": 7,
   "id": "86d07cfe",
   "metadata": {},
   "outputs": [
    {
     "name": "stdout",
     "output_type": "stream",
     "text": [
      "Stored 'the_sensitivity' (list)\n"
     ]
    }
   ],
   "source": [
    "the_sensitivity = [S_mag, S_phz]\n",
    "%store the_sensitivity"
   ]
  },
  {
   "cell_type": "markdown",
   "id": "15cf319e",
   "metadata": {},
   "source": [
    "Goto the next step - [Noise Analysis](./4_dDFIIt_noise_gain.ipynb)"
   ]
  }
 ],
 "metadata": {
  "kernelspec": {
   "display_name": "Python 3 (ipykernel)",
   "language": "python",
   "name": "python3"
  },
  "language_info": {
   "codemirror_mode": {
    "name": "ipython",
    "version": 3
   },
   "file_extension": ".py",
   "mimetype": "text/x-python",
   "name": "python",
   "nbconvert_exporter": "python",
   "pygments_lexer": "ipython3",
   "version": "3.9.12"
  }
 },
 "nbformat": 4,
 "nbformat_minor": 5
}
