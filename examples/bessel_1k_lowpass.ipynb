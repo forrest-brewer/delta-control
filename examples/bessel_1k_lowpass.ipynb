{
 "cells": [
  {
   "cell_type": "code",
   "execution_count": 1,
   "id": "d8d1a5d7",
   "metadata": {},
   "outputs": [
    {
     "name": "stdout",
     "output_type": "stream",
     "text": [
      "(4, 4) (4, 1) (1, 4) (1, 1)\n"
     ]
    },
    {
     "name": "stderr",
     "output_type": "stream",
     "text": [
      "C:\\qaz\\anaconda3\\lib\\site-packages\\cvxpy\\problems\\problem.py:1337: UserWarning: Solution may be inaccurate. Try another solver, adjusting the solver settings, or solve with verbose=True for more information.\n",
      "  warnings.warn(\n"
     ]
    },
    {
     "name": "stdout",
     "output_type": "stream",
     "text": [
      "q = \n",
      " [[-13.31208888  10.14807069  -7.54221794  -8.18072369   9.24818283]]\n",
      "Coefficient bitwidths = \n",
      " [[16. 17. 25. 26. 16.]]\n",
      "accum[ 0 ] | 39.0 14.0\n",
      "alpha[ 0 ] | 16.0 14.0\n",
      "beta [ 0 ] | 16.0 14.0\n",
      "k_ts [ 0 ] | 25.0 24.0\n",
      "----------------------------------------\n",
      "accum[ 1 ] | 25.0 0.0\n",
      "alpha[ 1 ] | 17.0 0.0\n",
      "beta [ 1 ] | 17.0 0.0\n",
      "k_ts [ 1 ] | 11.0 10.0\n",
      "----------------------------------------\n",
      "accum[ 2 ] | 33.0 8.0\n",
      "alpha[ 2 ] | 25.0 8.0\n",
      "beta [ 2 ] | 25.0 8.0\n",
      "k_ts [ 2 ] | 12.0 11.0\n",
      "----------------------------------------\n",
      "accum[ 3 ] | 34.0 9.0\n",
      "alpha[ 3 ] | 26.0 9.0\n",
      "beta [ 3 ] | 26.0 9.0\n",
      "k_ts [ 3 ] | 13.0 12.0\n",
      "----------------------------------------\n",
      "accum[ 4 ] | 25.0 0.0\n",
      "alpha[ 4 ] | 16.0 0.0\n",
      "beta [ 4 ] | 16.0 0.0\n",
      "k_ts [ 4 ] | 2.0 1.0\n",
      "----------------------------------------\n",
      "np.amin(ds_in) -0.5\n",
      "np.amax(ds_in) 0.5\n"
     ]
    },
    {
     "data": {
      "image/png": "[encoded data removed]",
      "text/plain": [
       "<Figure size 432x288 with 1 Axes>"
      ]
     },
     "metadata": {
      "needs_background": "light"
     },
     "output_type": "display_data"
    }
   ],
   "source": [
    "#\n",
    "# Filter example - bessel low pass\n",
    "#\n",
    "import numpy as np\n",
    "from scipy import signal\n",
    "import sys\n",
    "\n",
    "if '../sdfpy' not in sys.path:\n",
    "  sys.path.insert(0,'../sdfpy')\n",
    "\n",
    "import sdfpy as sdf\n",
    "import sd_sim\n",
    "\n",
    "# ----------------------------------------------------------\n",
    "# Filter Specifications\n",
    "OSR = 256      # oversample ratio\n",
    "fb  = 22050    # nyquist\n",
    "fs  = OSR*2*fb # sampling frequency\n",
    "ts  = 1/fs     # sampling period\n",
    "\n",
    "# ----------------------------------------------------------\n",
    "# lowpass filter - 1kHz\n",
    "Wn    = 2*np.pi*1000\n",
    "ftype = 'lowpass'\n",
    "N     = 4\n",
    "\n",
    "[z,p,k]   = signal.bessel(N, Wn, ftype, analog=True, output='zpk')\n",
    "[A,B,C,D] = signal.zpk2ss(z, p, k)\n",
    "\n",
    "print(A.shape, B.shape, C.shape, D.shape)\n",
    "\n",
    "filter = sdf.sd_filter(OSR,fb)\n",
    "filter.run(A,B,C,D)\n",
    "sd_sim.sim_filter(filter)"
   ]
  },
  {
   "cell_type": "code",
   "execution_count": null,
   "id": "79844ef4",
   "metadata": {},
   "outputs": [],
   "source": []
  }
 ],
 "metadata": {
  "kernelspec": {
   "display_name": "Python 3 (ipykernel)",
   "language": "python",
   "name": "python3"
  },
  "language_info": {
   "codemirror_mode": {
    "name": "ipython",
    "version": 3
   },
   "file_extension": ".py",
   "mimetype": "text/x-python",
   "name": "python",
   "nbconvert_exporter": "python",
   "pygments_lexer": "ipython3",
   "version": "3.9.12"
  }
 },
 "nbformat": 4,
 "nbformat_minor": 5
}
