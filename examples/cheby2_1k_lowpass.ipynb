{
 "cells": [
  {
   "cell_type": "code",
   "execution_count": 1,
   "id": "b70c95a7",
   "metadata": {},
   "outputs": [
    {
     "name": "stdout",
     "output_type": "stream",
     "text": [
      "(4, 4) (4, 1) (1, 4) (1, 1)\n"
     ]
    },
    {
     "name": "stderr",
     "output_type": "stream",
     "text": [
      "C:\\qaz\\anaconda3\\lib\\site-packages\\cvxpy\\problems\\problem.py:1337: UserWarning: Solution may be inaccurate. Try another solver, adjusting the solver settings, or solve with verbose=True for more information.\n",
      "  warnings.warn(\n"
     ]
    },
    {
     "name": "stdout",
     "output_type": "stream",
     "text": [
      "q = \n",
      " [[-18.14276543   7.4056948  -11.09577547 -11.15689632   5.99530117]]\n",
      "Coefficient bitwidths = \n",
      " [[21. 15. 27. 27. 14.]]\n",
      "accum[ 0 ] | 44.0 19.0\n",
      "alpha[ 0 ] | 21.0 19.0\n",
      "beta [ 0 ] | 21.0 19.0\n",
      "k_ts [ 0 ] | 25.0 24.0\n",
      "----------------------------------------\n",
      "accum[ 1 ] | 25.0 0.0\n",
      "alpha[ 1 ] | 15.0 0.0\n",
      "beta [ 1 ] | 15.0 0.0\n",
      "k_ts [ 1 ] | 13.0 12.0\n",
      "----------------------------------------\n",
      "accum[ 2 ] | 37.0 12.0\n",
      "alpha[ 2 ] | 27.0 12.0\n",
      "beta [ 2 ] | 27.0 12.0\n",
      "k_ts [ 2 ] | 14.0 13.0\n",
      "----------------------------------------\n",
      "accum[ 3 ] | 37.0 12.0\n",
      "alpha[ 3 ] | 27.0 12.0\n",
      "beta [ 3 ] | 27.0 12.0\n",
      "k_ts [ 3 ] | 14.0 13.0\n",
      "----------------------------------------\n",
      "accum[ 4 ] | 25.0 0.0\n",
      "alpha[ 4 ] | 14.0 0.0\n",
      "beta [ 4 ] | 14.0 0.0\n",
      "k_ts [ 4 ] | 2.0 1.0\n",
      "----------------------------------------\n",
      "np.amin(ds_in) -0.5\n",
      "np.amax(ds_in) 0.5\n"
     ]
    },
    {
     "data": {
      "image/png": "[encoded data removed]",
      "text/plain": [
       "<Figure size 432x288 with 1 Axes>"
      ]
     },
     "metadata": {
      "needs_background": "light"
     },
     "output_type": "display_data"
    }
   ],
   "source": [
    "#\n",
    "# Filter example - cheby2 low pass\n",
    "#\n",
    "import numpy as np\n",
    "from scipy import signal\n",
    "import sys\n",
    "\n",
    "if '../sdfpy' not in sys.path:\n",
    "  sys.path.insert(0,'../sdfpy')\n",
    "\n",
    "import sdfpy as sdf\n",
    "import sd_sim\n",
    "\n",
    "# ----------------------------------------------------------\n",
    "# Filter Specifications\n",
    "OSR = 256      # oversample ratio\n",
    "fb  = 22050    # nyquist\n",
    "fs  = OSR*2*fb # sampling frequency\n",
    "ts  = 1/fs     # sampling period\n",
    "\n",
    "# ----------------------------------------------------------\n",
    "# lowpass filter - 1kHz\n",
    "Rs    = 60\n",
    "Wn    = 2*np.pi*1000\n",
    "ftype = 'lowpass'\n",
    "N     = 4\n",
    "\n",
    "[z,p,k]   = signal.cheby2(N, Rs, Wn, ftype, analog=True, output='zpk')\n",
    "[A,B,C,D] = signal.zpk2ss(z, p, k)\n",
    "\n",
    "print(A.shape, B.shape, C.shape, D.shape)\n",
    "\n",
    "filter = sdf.sd_filter(OSR,fb)\n",
    "filter.run(A,B,C,D)\n",
    "sd_sim.sim_filter(filter)"
   ]
  },
  {
   "cell_type": "code",
   "execution_count": null,
   "id": "9cdca1c5",
   "metadata": {},
   "outputs": [],
   "source": []
  }
 ],
 "metadata": {
  "kernelspec": {
   "display_name": "Python 3 (ipykernel)",
   "language": "python",
   "name": "python3"
  },
  "language_info": {
   "codemirror_mode": {
    "name": "ipython",
    "version": 3
   },
   "file_extension": ".py",
   "mimetype": "text/x-python",
   "name": "python",
   "nbconvert_exporter": "python",
   "pygments_lexer": "ipython3",
   "version": "3.9.12"
  }
 },
 "nbformat": 4,
 "nbformat_minor": 5
}
