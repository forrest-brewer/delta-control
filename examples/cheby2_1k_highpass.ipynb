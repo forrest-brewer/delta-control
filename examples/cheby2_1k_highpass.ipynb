{
 "cells": [
  {
   "cell_type": "code",
   "execution_count": 1,
   "id": "c43f1e9b",
   "metadata": {},
   "outputs": [
    {
     "name": "stdout",
     "output_type": "stream",
     "text": [
      "(4, 4) (4, 1) (1, 4) (1, 1)\n"
     ]
    },
    {
     "name": "stderr",
     "output_type": "stream",
     "text": [
      "C:\\qaz\\projects\\delta-control\\examples\\../sdfpy\\sdfpy.py:62: LinAlgWarning: Ill-conditioned matrix (rcond=8.67362e-19): result may not be accurate.\n",
      "  B_d = linalg.solve(T_d, B)\n",
      "C:\\qaz\\projects\\delta-control\\examples\\../sdfpy\\sdfpy.py:62: LinAlgWarning: Ill-conditioned matrix (rcond=1.73472e-18): result may not be accurate.\n",
      "  B_d = linalg.solve(T_d, B)\n",
      "C:\\qaz\\projects\\delta-control\\examples\\../sdfpy\\sdfpy.py:62: LinAlgWarning: Ill-conditioned matrix (rcond=3.46945e-18): result may not be accurate.\n",
      "  B_d = linalg.solve(T_d, B)\n"
     ]
    },
    {
     "name": "stdout",
     "output_type": "stream",
     "text": [
      "q = \n",
      " [[-16.13189731  -2.89303215  -3.31665345  -3.77029348  13.00844519]]\n",
      "Coefficient bitwidths = \n",
      " [[19. 21. 22. 23. 19.]]\n",
      "accum[ 0 ] | 42.0 17.0\n",
      "alpha[ 0 ] | 19.0 17.0\n",
      "beta [ 0 ] | 19.0 17.0\n",
      "k_ts [ 0 ] | 24.0 23.0\n",
      "----------------------------------------\n",
      "accum[ 1 ] | 28.0 3.0\n",
      "alpha[ 1 ] | 21.0 3.0\n",
      "beta [ 1 ] | 21.0 3.0\n",
      "k_ts [ 1 ] | 10.0 9.0\n",
      "----------------------------------------\n",
      "accum[ 2 ] | 29.0 4.0\n",
      "alpha[ 2 ] | 22.0 4.0\n",
      "beta [ 2 ] | 22.0 4.0\n",
      "k_ts [ 2 ] | 11.0 10.0\n",
      "----------------------------------------\n",
      "accum[ 3 ] | 29.0 4.0\n",
      "alpha[ 3 ] | 23.0 4.0\n",
      "beta [ 3 ] | 23.0 4.0\n",
      "k_ts [ 3 ] | 12.0 11.0\n",
      "----------------------------------------\n",
      "accum[ 4 ] | 25.0 0.0\n",
      "alpha[ 4 ] | 19.0 0.0\n",
      "beta [ 4 ] | 19.0 0.0\n",
      "k_ts [ 4 ] | 2.0 1.0\n",
      "----------------------------------------\n",
      "np.amin(ds_in) -0.5\n",
      "np.amax(ds_in) 0.5\n"
     ]
    },
    {
     "data": {
      "image/png": "[encoded data removed]",
      "text/plain": [
       "<Figure size 432x288 with 1 Axes>"
      ]
     },
     "metadata": {
      "needs_background": "light"
     },
     "output_type": "display_data"
    }
   ],
   "source": [
    "#\n",
    "# Filter example - cheby2 highpass\n",
    "#\n",
    "import numpy as np\n",
    "from scipy import signal\n",
    "import sys\n",
    "\n",
    "if '../sdfpy' not in sys.path:\n",
    "  sys.path.insert(0,'../sdfpy')\n",
    "\n",
    "import sdfpy as sdf\n",
    "import sd_sim\n",
    "\n",
    "# ----------------------------------------------------------\n",
    "# Filter Specifications\n",
    "OSR = 256      # oversample ratio\n",
    "fb  = 22050    # nyquist\n",
    "fs  = OSR*2*fb # sampling frequency\n",
    "ts  = 1/fs     # sampling period\n",
    "\n",
    "# ----------------------------------------------------------\n",
    "# highpass filter - 1kHz\n",
    "Rs    = 60\n",
    "Wn    = 2*np.pi*1000\n",
    "ftype = 'highpass'\n",
    "N     = 4\n",
    "\n",
    "[z,p,k]   = signal.cheby2(N, Rs, Wn, ftype, analog=True, output='zpk')\n",
    "[A,B,C,D] = signal.zpk2ss(z, p, k)\n",
    "\n",
    "print(A.shape, B.shape, C.shape, D.shape)\n",
    "\n",
    "filter = sdf.sd_filter(OSR,fb)\n",
    "filter.run(A,B,C,D)\n",
    "sd_sim.sim_filter(filter)"
   ]
  },
  {
   "cell_type": "code",
   "execution_count": null,
   "id": "c2f791d7",
   "metadata": {},
   "outputs": [],
   "source": []
  }
 ],
 "metadata": {
  "kernelspec": {
   "display_name": "Python 3 (ipykernel)",
   "language": "python",
   "name": "python3"
  },
  "language_info": {
   "codemirror_mode": {
    "name": "ipython",
    "version": 3
   },
   "file_extension": ".py",
   "mimetype": "text/x-python",
   "name": "python",
   "nbconvert_exporter": "python",
   "pygments_lexer": "ipython3",
   "version": "3.9.12"
  }
 },
 "nbformat": 4,
 "nbformat_minor": 5
}
