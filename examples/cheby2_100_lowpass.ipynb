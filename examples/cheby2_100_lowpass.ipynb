{
 "cells": [
  {
   "cell_type": "code",
   "execution_count": 1,
   "id": "2e62103b",
   "metadata": {},
   "outputs": [
    {
     "name": "stdout",
     "output_type": "stream",
     "text": [
      "(4, 4) (4, 1) (1, 4) (1, 1)\n",
      "q = \n",
      " [[-21.48355497   3.99343972 -18.06528252 -18.45272883   2.92288251]]\n",
      "Coefficient bitwidths = \n",
      " [[24. 12. 30. 30. 11.]]\n",
      "accum[ 0 ] | 47.0 22.0\n",
      "alpha[ 0 ] | 24.0 22.0\n",
      "beta [ 0 ] | 24.0 22.0\n",
      "k_ts [ 0 ] | 25.0 24.0\n",
      "----------------------------------------\n",
      "accum[ 1 ] | 25.0 0.0\n",
      "alpha[ 1 ] | 12.0 0.0\n",
      "beta [ 1 ] | 12.0 0.0\n",
      "k_ts [ 1 ] | 16.0 15.0\n",
      "----------------------------------------\n",
      "accum[ 2 ] | 44.0 19.0\n",
      "alpha[ 2 ] | 30.0 19.0\n",
      "beta [ 2 ] | 30.0 19.0\n",
      "k_ts [ 2 ] | 17.0 16.0\n",
      "----------------------------------------\n",
      "accum[ 3 ] | 44.0 19.0\n",
      "alpha[ 3 ] | 30.0 19.0\n",
      "beta [ 3 ] | 30.0 19.0\n",
      "k_ts [ 3 ] | 18.0 17.0\n",
      "----------------------------------------\n",
      "accum[ 4 ] | 25.0 0.0\n",
      "alpha[ 4 ] | 11.0 0.0\n",
      "beta [ 4 ] | 11.0 0.0\n",
      "k_ts [ 4 ] | 2.0 1.0\n",
      "----------------------------------------\n",
      "np.amin(ds_in) -0.5\n",
      "np.amax(ds_in) 0.5\n"
     ]
    },
    {
     "data": {
      "image/png": "[encoded data removed]",
      "text/plain": [
       "<Figure size 432x288 with 1 Axes>"
      ]
     },
     "metadata": {
      "needs_background": "light"
     },
     "output_type": "display_data"
    }
   ],
   "source": [
    "#\n",
    "# Filter example - cheby2 low pass\n",
    "#\n",
    "import numpy as np\n",
    "from scipy import signal\n",
    "import sys\n",
    "\n",
    "if '../sdfpy' not in sys.path:\n",
    "  sys.path.insert(0,'../sdfpy')\n",
    "\n",
    "import sd_sim\n",
    "import sdfpy as sdf\n",
    "\n",
    "# ----------------------------------------------------------\n",
    "# Filter Specifications\n",
    "OSR = 256      # oversample ratio\n",
    "fb  = 22050    # nyquist\n",
    "fs  = OSR*2*fb # sampling frequency\n",
    "ts  = 1/fs     # sampling period\n",
    "\n",
    "# ----------------------------------------------------------\n",
    "# lowpass filter - 1kHz\n",
    "Rs    = 60\n",
    "Wn    = 2*np.pi*100\n",
    "ftype = 'lowpass'\n",
    "N     = 4\n",
    "\n",
    "[z,p,k]   = signal.cheby2(N, Rs, Wn, ftype, analog=True, output='zpk')\n",
    "[A,B,C,D] = signal.zpk2ss(z, p, k)\n",
    "\n",
    "print(A.shape, B.shape, C.shape, D.shape)\n",
    "\n",
    "filter = sdf.sd_filter(OSR,fb)\n",
    "filter.run(A,B,C,D)\n",
    "sd_sim.sim_filter(filter)"
   ]
  },
  {
   "cell_type": "code",
   "execution_count": null,
   "id": "3d17795d",
   "metadata": {},
   "outputs": [],
   "source": []
  }
 ],
 "metadata": {
  "kernelspec": {
   "display_name": "Python 3 (ipykernel)",
   "language": "python",
   "name": "python3"
  },
  "language_info": {
   "codemirror_mode": {
    "name": "ipython",
    "version": 3
   },
   "file_extension": ".py",
   "mimetype": "text/x-python",
   "name": "python",
   "nbconvert_exporter": "python",
   "pygments_lexer": "ipython3",
   "version": "3.9.12"
  }
 },
 "nbformat": 4,
 "nbformat_minor": 5
}
