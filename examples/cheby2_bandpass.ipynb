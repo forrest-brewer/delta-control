{
 "cells": [
  {
   "cell_type": "code",
   "execution_count": 1,
   "id": "7539e3a4",
   "metadata": {},
   "outputs": [
    {
     "name": "stdout",
     "output_type": "stream",
     "text": [
      "q = \n",
      " [[-21.07850896  -7.20306962  -7.89918166  -7.51143563   3.12966123]]\n",
      "Coefficient bitwidths = \n",
      " [[24. 21. 25. 21. 16.]]\n",
      "accum[ 0 ] | 47.0 22.0\n",
      "alpha[ 0 ] | 24.0 22.0\n",
      "beta [ 0 ] | 24.0 22.0\n",
      "k_ts [ 0 ] | 25.0 24.0\n",
      "----------------------------------------\n",
      "accum[ 1 ] | 33.0 8.0\n",
      "alpha[ 1 ] | 21.0 8.0\n",
      "beta [ 1 ] | 21.0 8.0\n",
      "k_ts [ 1 ] | 12.0 11.0\n",
      "----------------------------------------\n",
      "accum[ 2 ] | 33.0 8.0\n",
      "alpha[ 2 ] | 25.0 8.0\n",
      "beta [ 2 ] | 25.0 8.0\n",
      "k_ts [ 2 ] | 12.0 11.0\n",
      "----------------------------------------\n",
      "accum[ 3 ] | 33.0 8.0\n",
      "alpha[ 3 ] | 21.0 8.0\n",
      "beta [ 3 ] | 21.0 8.0\n",
      "k_ts [ 3 ] | 12.0 11.0\n",
      "----------------------------------------\n",
      "accum[ 4 ] | 25.0 0.0\n",
      "alpha[ 4 ] | 16.0 0.0\n",
      "beta [ 4 ] | 16.0 0.0\n",
      "k_ts [ 4 ] | 2.0 1.0\n",
      "----------------------------------------\n",
      "np.amin(ds_in) -0.5\n",
      "np.amax(ds_in) 0.5\n"
     ]
    },
    {
     "data": {
      "image/png": "[encoded data removed]",
      "text/plain": [
       "<Figure size 432x288 with 1 Axes>"
      ]
     },
     "metadata": {
      "needs_background": "light"
     },
     "output_type": "display_data"
    }
   ],
   "source": [
    "#\n",
    "# Filter example - cheby2 bandpass\n",
    "#\n",
    "import numpy as np\n",
    "from scipy import signal\n",
    "import sys\n",
    "\n",
    "if '../sdfpy' not in sys.path:\n",
    "  sys.path.insert(0,'../sdfpy')\n",
    "\n",
    "import sd_sim\n",
    "import sdfpy as sdf\n",
    "\n",
    "# ----------------------------------------------------------\n",
    "# Filter Specifications\n",
    "OSR = 256      # oversample ratio\n",
    "fb  = 22050    # nyquist\n",
    "fs  = OSR*2*fb # sampling frequency\n",
    "ts  = 1/fs     # sampling period\n",
    "\n",
    "# ----------------------------------------------------------\n",
    "# Bandpass Filter - 300Hz to 3kHz\n",
    "Rs = 60\n",
    "Wn = 2*np.pi*np.array([300, 3000])\n",
    "ftype = 'bandpass'\n",
    "N = 4\n",
    "\n",
    "[z,p,k]   = signal.cheby2(N/2,Rs,Wn,ftype, analog=True, output='zpk')\n",
    "[A,B,C,D] = signal.zpk2ss(z,p,k)\n",
    "\n",
    "filter = sdf.sd_filter(OSR,fb)\n",
    "filter.run(A,B,C,D)\n",
    "sd_sim.sim_filter(filter)"
   ]
  },
  {
   "cell_type": "code",
   "execution_count": null,
   "id": "17c13f04",
   "metadata": {},
   "outputs": [],
   "source": []
  },
  {
   "cell_type": "code",
   "execution_count": null,
   "id": "80c7e0c2",
   "metadata": {},
   "outputs": [],
   "source": []
  }
 ],
 "metadata": {
  "kernelspec": {
   "display_name": "Python 3 (ipykernel)",
   "language": "python",
   "name": "python3"
  },
  "language_info": {
   "codemirror_mode": {
    "name": "ipython",
    "version": 3
   },
   "file_extension": ".py",
   "mimetype": "text/x-python",
   "name": "python",
   "nbconvert_exporter": "python",
   "pygments_lexer": "ipython3",
   "version": "3.9.12"
  }
 },
 "nbformat": 4,
 "nbformat_minor": 5
}
