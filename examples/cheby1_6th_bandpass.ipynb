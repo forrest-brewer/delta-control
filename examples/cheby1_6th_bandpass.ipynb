{
 "cells": [
  {
   "cell_type": "code",
   "execution_count": 1,
   "id": "22f1a659",
   "metadata": {},
   "outputs": [
    {
     "name": "stdout",
     "output_type": "stream",
     "text": [
      "(6, 6) (6, 1) (1, 6) (1, 1)\n"
     ]
    },
    {
     "name": "stderr",
     "output_type": "stream",
     "text": [
      "C:\\qaz\\projects\\delta-control\\examples\\../sdfpy\\sdfpy.py:240: LinAlgWarning: Ill-conditioned matrix (rcond=5.55112e-17): result may not be accurate.\n",
      "  B = linalg.solve(T, B)\n",
      "C:\\qaz\\projects\\delta-control\\examples\\../sdfpy\\sdfpy.py:29: LinAlgWarning: Ill-conditioned matrix (rcond=4.09742e-19): result may not be accurate.\n",
      "  S_inv = linalg.solve(S, np.eye(S.shape[0]))\n",
      "C:\\qaz\\projects\\delta-control\\examples\\../sdfpy\\sdfpy.py:40: LinAlgWarning: Ill-conditioned matrix (rcond=9.79541e-17): result may not be accurate.\n",
      "  AT = linalg.solve(T0, A @ T0)\n",
      "C:\\qaz\\projects\\delta-control\\examples\\../sdfpy\\sdfpy.py:43: LinAlgWarning: Ill-conditioned matrix (rcond=9.79541e-17): result may not be accurate.\n",
      "  BT = linalg.solve(T0, B)\n",
      "C:\\qaz\\projects\\delta-control\\examples\\../sdfpy\\sdfpy.py:73: LinAlgWarning: Ill-conditioned matrix (rcond=9.79541e-17): result may not be accurate.\n",
      "  T0_inv = linalg.solve(T0, np.eye(T0.shape[0]))\n",
      "C:\\qaz\\projects\\delta-control\\examples\\../sdfpy\\sdfpy.py:62: LinAlgWarning: Ill-conditioned matrix (rcond=1.38778e-17): result may not be accurate.\n",
      "  B_d = linalg.solve(T_d, B)\n",
      "C:\\qaz\\projects\\delta-control\\examples\\../sdfpy\\sdfpy.py:62: LinAlgWarning: Ill-conditioned matrix (rcond=2.77556e-17): result may not be accurate.\n",
      "  B_d = linalg.solve(T_d, B)\n",
      "C:\\qaz\\projects\\delta-control\\examples\\../sdfpy\\sdfpy.py:62: LinAlgWarning: Ill-conditioned matrix (rcond=5.55112e-17): result may not be accurate.\n",
      "  B_d = linalg.solve(T_d, B)\n",
      "C:\\qaz\\projects\\delta-control\\examples\\../sdfpy\\sdfpy.py:146: LinAlgWarning: Ill-conditioned matrix (rcond=9.79541e-17): result may not be accurate.\n",
      "  A = linalg.solve(Ts, linalg.solve(T0, Ad))\n",
      "C:\\qaz\\projects\\delta-control\\examples\\../sdfpy\\sdfpy.py:149: LinAlgWarning: Ill-conditioned matrix (rcond=9.79541e-17): result may not be accurate.\n",
      "  B = linalg.solve(Ts, linalg.solve(T0, Ad-np.eye(Ad.shape[0])))\n",
      "C:\\qaz\\projects\\delta-control\\examples\\../sdfpy\\sdfpy.py:169: LinAlgWarning: Ill-conditioned matrix (rcond=9.79541e-17): result may not be accurate.\n",
      "  C = linalg.solve(Ts, linalg.solve(T0, np.eye(Ad.shape[0])))\n",
      "C:\\qaz\\projects\\delta-control\\examples\\../sdfpy\\sdfpy.py:181: LinAlgWarning: Ill-conditioned matrix (rcond=9.79541e-17): result may not be accurate.\n",
      "  C = linalg.solve(Ts, linalg.solve(T0, np.eye(Ad.shape[0])))\n"
     ]
    },
    {
     "name": "stdout",
     "output_type": "stream",
     "text": [
      "q = \n",
      " [[-17.28559943   7.41171864 -10.31349575 -12.07690033 -14.85059417\n",
      "  -14.5692459    7.01874339]]\n",
      "Coefficient bitwidths = \n",
      " [[20. 15. 26. 28. 28. 28. 15.]]\n",
      "accum[ 0 ] | 43.0 18.0\n",
      "alpha[ 0 ] | 20.0 18.0\n",
      "beta [ 0 ] | 20.0 18.0\n",
      "k_ts [ 0 ] | 25.0 24.0\n",
      "----------------------------------------\n",
      "accum[ 1 ] | 25.0 0.0\n",
      "alpha[ 1 ] | 15.0 0.0\n",
      "beta [ 1 ] | 15.0 0.0\n",
      "k_ts [ 1 ] | 12.0 11.0\n",
      "----------------------------------------\n",
      "accum[ 2 ] | 36.0 11.0\n",
      "alpha[ 2 ] | 26.0 11.0\n",
      "beta [ 2 ] | 26.0 11.0\n",
      "k_ts [ 2 ] | 13.0 12.0\n",
      "----------------------------------------\n",
      "accum[ 3 ] | 38.0 13.0\n",
      "alpha[ 3 ] | 28.0 13.0\n",
      "beta [ 3 ] | 28.0 13.0\n",
      "k_ts [ 3 ] | 13.0 12.0\n",
      "----------------------------------------\n",
      "accum[ 4 ] | 40.0 15.0\n",
      "alpha[ 4 ] | 28.0 15.0\n",
      "beta [ 4 ] | 28.0 15.0\n",
      "k_ts [ 4 ] | 16.0 15.0\n",
      "----------------------------------------\n",
      "accum[ 5 ] | 40.0 15.0\n",
      "alpha[ 5 ] | 28.0 15.0\n",
      "beta [ 5 ] | 28.0 15.0\n",
      "k_ts [ 5 ] | 17.0 16.0\n",
      "----------------------------------------\n",
      "accum[ 6 ] | 25.0 0.0\n",
      "alpha[ 6 ] | 15.0 0.0\n",
      "beta [ 6 ] | 15.0 0.0\n",
      "k_ts [ 6 ] | 2.0 1.0\n",
      "----------------------------------------\n",
      "np.amin(ds_in) -0.5\n",
      "np.amax(ds_in) 0.5\n"
     ]
    },
    {
     "data": {
      "image/png": "[encoded data removed]",
      "text/plain": [
       "<Figure size 432x288 with 1 Axes>"
      ]
     },
     "metadata": {
      "needs_background": "light"
     },
     "output_type": "display_data"
    }
   ],
   "source": [
    "#\n",
    "# Filter example - cheby1 bandpass\n",
    "#\n",
    "import numpy as np\n",
    "from scipy import signal\n",
    "import sys\n",
    "\n",
    "if '../sdfpy' not in sys.path:\n",
    "  sys.path.insert(0,'../sdfpy')\n",
    "\n",
    "import sd_sim\n",
    "import sdfpy as sdf\n",
    "\n",
    "# ----------------------------------------------------------\n",
    "# Filter Specifications\n",
    "OSR = 256      # oversample ratio\n",
    "fb  = 22050    # nyquist\n",
    "fs  = OSR*2*fb # sampling frequency\n",
    "ts  = 1/fs     # sampling period\n",
    "\n",
    "# ----------------------------------------------------------\n",
    "Rp    = 0.1;\n",
    "Wn    = 2*np.pi*np.array([100, 500])\n",
    "ftype = 'bandpass';\n",
    "N     = 6;\n",
    "\n",
    "[z,p,k]   = signal.cheby1(N/2,Rp,Wn,ftype, analog=True, output='zpk')\n",
    "[A,B,C,D] = signal.zpk2ss(z,p,k)\n",
    "\n",
    "print(A.shape, B.shape, C.shape, D.shape)\n",
    "\n",
    "filter = sdf.sd_filter(OSR,fb)\n",
    "filter.run(A,B,C,D)\n",
    "sd_sim.sim_filter(filter)"
   ]
  },
  {
   "cell_type": "code",
   "execution_count": null,
   "id": "3121901a",
   "metadata": {},
   "outputs": [],
   "source": []
  }
 ],
 "metadata": {
  "kernelspec": {
   "display_name": "Python 3 (ipykernel)",
   "language": "python",
   "name": "python3"
  },
  "language_info": {
   "codemirror_mode": {
    "name": "ipython",
    "version": 3
   },
   "file_extension": ".py",
   "mimetype": "text/x-python",
   "name": "python",
   "nbconvert_exporter": "python",
   "pygments_lexer": "ipython3",
   "version": "3.9.12"
  }
 },
 "nbformat": 4,
 "nbformat_minor": 5
}
